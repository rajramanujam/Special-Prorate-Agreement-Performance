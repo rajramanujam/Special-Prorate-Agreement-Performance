{
 "cells": [
  {
   "cell_type": "markdown",
   "metadata": {},
   "source": [
    "# Airline Special Prorate Agreement Profitability Analysis \n",
    "\n"
   ]
  },
  {
   "cell_type": "code",
   "execution_count": 207,
   "metadata": {},
   "outputs": [],
   "source": [
    "import numpy as np\n",
    "import pandas as pd\n",
    "import seaborn as sns\n",
    "import matplotlib.pyplot as plt\n",
    "\n",
    "import warnings\n",
    "warnings.filterwarnings(\"ignore\")"
   ]
  },
  {
   "cell_type": "code",
   "execution_count": 209,
   "metadata": {},
   "outputs": [],
   "source": [
    "spa_data = pd.read_csv(\"https://raw.githubusercontent.com/rajramanujam/Special-Prorate-Agreement-Performance/main/finspa.csv\")"
   ]
  },
  {
   "cell_type": "code",
   "execution_count": 210,
   "metadata": {
    "scrolled": true
   },
   "outputs": [
    {
     "data": {
      "text/html": [
       "<div>\n",
       "<style scoped>\n",
       "    .dataframe tbody tr th:only-of-type {\n",
       "        vertical-align: middle;\n",
       "    }\n",
       "\n",
       "    .dataframe tbody tr th {\n",
       "        vertical-align: top;\n",
       "    }\n",
       "\n",
       "    .dataframe thead th {\n",
       "        text-align: right;\n",
       "    }\n",
       "</style>\n",
       "<table border=\"1\" class=\"dataframe\">\n",
       "  <thead>\n",
       "    <tr style=\"text-align: right;\">\n",
       "      <th></th>\n",
       "      <th>procarnumcod</th>\n",
       "      <th>fromarportcod</th>\n",
       "      <th>toarportcod</th>\n",
       "      <th>spacod</th>\n",
       "      <th>UpliftRestrictions</th>\n",
       "      <th>ThroughSPAflag</th>\n",
       "      <th>MultilateralCarrier</th>\n",
       "      <th>InvoluntaryRerouted</th>\n",
       "      <th>InvoluntaryEndorsed</th>\n",
       "      <th>Indemnification</th>\n",
       "      <th>...</th>\n",
       "      <th>spaoncodeshare</th>\n",
       "      <th>OALsurchargebilling</th>\n",
       "      <th>spashareflag</th>\n",
       "      <th>FRMLAT</th>\n",
       "      <th>FRMLON</th>\n",
       "      <th>TOOLAT</th>\n",
       "      <th>TOOLON</th>\n",
       "      <th>bilamt</th>\n",
       "      <th>bilcnt</th>\n",
       "      <th>outcome</th>\n",
       "    </tr>\n",
       "  </thead>\n",
       "  <tbody>\n",
       "    <tr>\n",
       "      <th>0</th>\n",
       "      <td>211</td>\n",
       "      <td>MNL</td>\n",
       "      <td>TAG</td>\n",
       "      <td>42</td>\n",
       "      <td>Q</td>\n",
       "      <td>E</td>\n",
       "      <td>Q</td>\n",
       "      <td>A</td>\n",
       "      <td>U</td>\n",
       "      <td>A</td>\n",
       "      <td>...</td>\n",
       "      <td>I</td>\n",
       "      <td>U</td>\n",
       "      <td>I</td>\n",
       "      <td>14.508600</td>\n",
       "      <td>121.019997</td>\n",
       "      <td>9.665442</td>\n",
       "      <td>123.853533</td>\n",
       "      <td>1737091.58</td>\n",
       "      <td>45717</td>\n",
       "      <td>5</td>\n",
       "    </tr>\n",
       "    <tr>\n",
       "      <th>1</th>\n",
       "      <td>220</td>\n",
       "      <td>HKG</td>\n",
       "      <td>MNL</td>\n",
       "      <td>3</td>\n",
       "      <td>Q</td>\n",
       "      <td>E</td>\n",
       "      <td>Q</td>\n",
       "      <td>A</td>\n",
       "      <td>U</td>\n",
       "      <td>A</td>\n",
       "      <td>...</td>\n",
       "      <td>I</td>\n",
       "      <td>U</td>\n",
       "      <td>I</td>\n",
       "      <td>22.308901</td>\n",
       "      <td>113.915001</td>\n",
       "      <td>14.508600</td>\n",
       "      <td>121.019997</td>\n",
       "      <td>1735964.20</td>\n",
       "      <td>13901</td>\n",
       "      <td>5</td>\n",
       "    </tr>\n",
       "    <tr>\n",
       "      <th>2</th>\n",
       "      <td>126</td>\n",
       "      <td>MNL</td>\n",
       "      <td>CGK</td>\n",
       "      <td>14</td>\n",
       "      <td>Q</td>\n",
       "      <td>E</td>\n",
       "      <td>Q</td>\n",
       "      <td>A</td>\n",
       "      <td>U</td>\n",
       "      <td>A</td>\n",
       "      <td>...</td>\n",
       "      <td>I</td>\n",
       "      <td>U</td>\n",
       "      <td>I</td>\n",
       "      <td>14.508600</td>\n",
       "      <td>121.019997</td>\n",
       "      <td>-6.125570</td>\n",
       "      <td>106.655998</td>\n",
       "      <td>1723632.50</td>\n",
       "      <td>9100</td>\n",
       "      <td>5</td>\n",
       "    </tr>\n",
       "    <tr>\n",
       "      <th>3</th>\n",
       "      <td>126</td>\n",
       "      <td>CGK</td>\n",
       "      <td>MNL</td>\n",
       "      <td>14</td>\n",
       "      <td>Q</td>\n",
       "      <td>E</td>\n",
       "      <td>Q</td>\n",
       "      <td>A</td>\n",
       "      <td>U</td>\n",
       "      <td>A</td>\n",
       "      <td>...</td>\n",
       "      <td>I</td>\n",
       "      <td>U</td>\n",
       "      <td>I</td>\n",
       "      <td>-6.125570</td>\n",
       "      <td>106.655998</td>\n",
       "      <td>14.508600</td>\n",
       "      <td>121.019997</td>\n",
       "      <td>1715746.00</td>\n",
       "      <td>9061</td>\n",
       "      <td>5</td>\n",
       "    </tr>\n",
       "    <tr>\n",
       "      <th>4</th>\n",
       "      <td>1</td>\n",
       "      <td>MCO</td>\n",
       "      <td>LAX</td>\n",
       "      <td>11</td>\n",
       "      <td>Q</td>\n",
       "      <td>E</td>\n",
       "      <td>Q</td>\n",
       "      <td>A</td>\n",
       "      <td>U</td>\n",
       "      <td>A</td>\n",
       "      <td>...</td>\n",
       "      <td>I</td>\n",
       "      <td>U</td>\n",
       "      <td>I</td>\n",
       "      <td>28.429399</td>\n",
       "      <td>-81.308998</td>\n",
       "      <td>33.942501</td>\n",
       "      <td>-118.407997</td>\n",
       "      <td>1679249.97</td>\n",
       "      <td>6007</td>\n",
       "      <td>5</td>\n",
       "    </tr>\n",
       "    <tr>\n",
       "      <th>...</th>\n",
       "      <td>...</td>\n",
       "      <td>...</td>\n",
       "      <td>...</td>\n",
       "      <td>...</td>\n",
       "      <td>...</td>\n",
       "      <td>...</td>\n",
       "      <td>...</td>\n",
       "      <td>...</td>\n",
       "      <td>...</td>\n",
       "      <td>...</td>\n",
       "      <td>...</td>\n",
       "      <td>...</td>\n",
       "      <td>...</td>\n",
       "      <td>...</td>\n",
       "      <td>...</td>\n",
       "      <td>...</td>\n",
       "      <td>...</td>\n",
       "      <td>...</td>\n",
       "      <td>...</td>\n",
       "      <td>...</td>\n",
       "      <td>...</td>\n",
       "    </tr>\n",
       "    <tr>\n",
       "      <th>19141</th>\n",
       "      <td>795</td>\n",
       "      <td>PQQ</td>\n",
       "      <td>BNE</td>\n",
       "      <td>1</td>\n",
       "      <td>M</td>\n",
       "      <td>A</td>\n",
       "      <td>M</td>\n",
       "      <td>M</td>\n",
       "      <td>E</td>\n",
       "      <td>M</td>\n",
       "      <td>...</td>\n",
       "      <td>A</td>\n",
       "      <td>U</td>\n",
       "      <td>A</td>\n",
       "      <td>-31.435801</td>\n",
       "      <td>152.863007</td>\n",
       "      <td>-27.384199</td>\n",
       "      <td>153.117004</td>\n",
       "      <td>62.02</td>\n",
       "      <td>1</td>\n",
       "      <td>0</td>\n",
       "    </tr>\n",
       "    <tr>\n",
       "      <th>19142</th>\n",
       "      <td>1</td>\n",
       "      <td>ORD</td>\n",
       "      <td>SHV</td>\n",
       "      <td>7</td>\n",
       "      <td>M</td>\n",
       "      <td>A</td>\n",
       "      <td>M</td>\n",
       "      <td>M</td>\n",
       "      <td>E</td>\n",
       "      <td>M</td>\n",
       "      <td>...</td>\n",
       "      <td>A</td>\n",
       "      <td>U</td>\n",
       "      <td>A</td>\n",
       "      <td>41.978600</td>\n",
       "      <td>-87.904800</td>\n",
       "      <td>32.446602</td>\n",
       "      <td>-93.825600</td>\n",
       "      <td>62.03</td>\n",
       "      <td>1</td>\n",
       "      <td>0</td>\n",
       "    </tr>\n",
       "    <tr>\n",
       "      <th>19143</th>\n",
       "      <td>5</td>\n",
       "      <td>CHS</td>\n",
       "      <td>EWR</td>\n",
       "      <td>8</td>\n",
       "      <td>M</td>\n",
       "      <td>A</td>\n",
       "      <td>M</td>\n",
       "      <td>M</td>\n",
       "      <td>E</td>\n",
       "      <td>M</td>\n",
       "      <td>...</td>\n",
       "      <td>A</td>\n",
       "      <td>U</td>\n",
       "      <td>A</td>\n",
       "      <td>32.898602</td>\n",
       "      <td>-80.040497</td>\n",
       "      <td>40.692501</td>\n",
       "      <td>-74.168701</td>\n",
       "      <td>62.04</td>\n",
       "      <td>1</td>\n",
       "      <td>0</td>\n",
       "    </tr>\n",
       "    <tr>\n",
       "      <th>19144</th>\n",
       "      <td>6</td>\n",
       "      <td>ATL</td>\n",
       "      <td>MDW</td>\n",
       "      <td>8</td>\n",
       "      <td>M</td>\n",
       "      <td>A</td>\n",
       "      <td>M</td>\n",
       "      <td>M</td>\n",
       "      <td>E</td>\n",
       "      <td>M</td>\n",
       "      <td>...</td>\n",
       "      <td>A</td>\n",
       "      <td>U</td>\n",
       "      <td>A</td>\n",
       "      <td>33.636700</td>\n",
       "      <td>-84.428101</td>\n",
       "      <td>41.785999</td>\n",
       "      <td>-87.752403</td>\n",
       "      <td>62.04</td>\n",
       "      <td>1</td>\n",
       "      <td>0</td>\n",
       "    </tr>\n",
       "    <tr>\n",
       "      <th>19145</th>\n",
       "      <td>6</td>\n",
       "      <td>DTW</td>\n",
       "      <td>PIT</td>\n",
       "      <td>21</td>\n",
       "      <td>M</td>\n",
       "      <td>A</td>\n",
       "      <td>M</td>\n",
       "      <td>M</td>\n",
       "      <td>E</td>\n",
       "      <td>M</td>\n",
       "      <td>...</td>\n",
       "      <td>A</td>\n",
       "      <td>U</td>\n",
       "      <td>A</td>\n",
       "      <td>42.212399</td>\n",
       "      <td>-83.353401</td>\n",
       "      <td>40.491501</td>\n",
       "      <td>-80.232903</td>\n",
       "      <td>62.04</td>\n",
       "      <td>2</td>\n",
       "      <td>0</td>\n",
       "    </tr>\n",
       "  </tbody>\n",
       "</table>\n",
       "<p>19146 rows × 26 columns</p>\n",
       "</div>"
      ],
      "text/plain": [
       "       procarnumcod fromarportcod toarportcod  spacod UpliftRestrictions  \\\n",
       "0               211           MNL         TAG      42                  Q   \n",
       "1               220           HKG         MNL       3                  Q   \n",
       "2               126           MNL         CGK      14                  Q   \n",
       "3               126           CGK         MNL      14                  Q   \n",
       "4                 1           MCO         LAX      11                  Q   \n",
       "...             ...           ...         ...     ...                ...   \n",
       "19141           795           PQQ         BNE       1                  M   \n",
       "19142             1           ORD         SHV       7                  M   \n",
       "19143             5           CHS         EWR       8                  M   \n",
       "19144             6           ATL         MDW       8                  M   \n",
       "19145             6           DTW         PIT      21                  M   \n",
       "\n",
       "      ThroughSPAflag MultilateralCarrier InvoluntaryRerouted  \\\n",
       "0                  E                   Q                   A   \n",
       "1                  E                   Q                   A   \n",
       "2                  E                   Q                   A   \n",
       "3                  E                   Q                   A   \n",
       "4                  E                   Q                   A   \n",
       "...              ...                 ...                 ...   \n",
       "19141              A                   M                   M   \n",
       "19142              A                   M                   M   \n",
       "19143              A                   M                   M   \n",
       "19144              A                   M                   M   \n",
       "19145              A                   M                   M   \n",
       "\n",
       "      InvoluntaryEndorsed Indemnification  ... spaoncodeshare  \\\n",
       "0                       U               A  ...              I   \n",
       "1                       U               A  ...              I   \n",
       "2                       U               A  ...              I   \n",
       "3                       U               A  ...              I   \n",
       "4                       U               A  ...              I   \n",
       "...                   ...             ...  ...            ...   \n",
       "19141                   E               M  ...              A   \n",
       "19142                   E               M  ...              A   \n",
       "19143                   E               M  ...              A   \n",
       "19144                   E               M  ...              A   \n",
       "19145                   E               M  ...              A   \n",
       "\n",
       "      OALsurchargebilling spashareflag     FRMLAT      FRMLON     TOOLAT  \\\n",
       "0                       U            I  14.508600  121.019997   9.665442   \n",
       "1                       U            I  22.308901  113.915001  14.508600   \n",
       "2                       U            I  14.508600  121.019997  -6.125570   \n",
       "3                       U            I  -6.125570  106.655998  14.508600   \n",
       "4                       U            I  28.429399  -81.308998  33.942501   \n",
       "...                   ...          ...        ...         ...        ...   \n",
       "19141                   U            A -31.435801  152.863007 -27.384199   \n",
       "19142                   U            A  41.978600  -87.904800  32.446602   \n",
       "19143                   U            A  32.898602  -80.040497  40.692501   \n",
       "19144                   U            A  33.636700  -84.428101  41.785999   \n",
       "19145                   U            A  42.212399  -83.353401  40.491501   \n",
       "\n",
       "           TOOLON      bilamt bilcnt  outcome  \n",
       "0      123.853533  1737091.58  45717        5  \n",
       "1      121.019997  1735964.20  13901        5  \n",
       "2      106.655998  1723632.50   9100        5  \n",
       "3      121.019997  1715746.00   9061        5  \n",
       "4     -118.407997  1679249.97   6007        5  \n",
       "...           ...         ...    ...      ...  \n",
       "19141  153.117004       62.02      1        0  \n",
       "19142  -93.825600       62.03      1        0  \n",
       "19143  -74.168701       62.04      1        0  \n",
       "19144  -87.752403       62.04      1        0  \n",
       "19145  -80.232903       62.04      2        0  \n",
       "\n",
       "[19146 rows x 26 columns]"
      ]
     },
     "execution_count": 210,
     "metadata": {},
     "output_type": "execute_result"
    }
   ],
   "source": [
    "spa_data"
   ]
  },
  {
   "cell_type": "code",
   "execution_count": 115,
   "metadata": {},
   "outputs": [
    {
     "name": "stdout",
     "output_type": "stream",
     "text": [
      "<class 'pandas.core.frame.DataFrame'>\n",
      "RangeIndex: 19146 entries, 0 to 19145\n",
      "Data columns (total 26 columns):\n",
      " #   Column               Non-Null Count  Dtype  \n",
      "---  ------               --------------  -----  \n",
      " 0   procarnumcod         19146 non-null  int64  \n",
      " 1   fromarportcod        19146 non-null  object \n",
      " 2   toarportcod          19146 non-null  object \n",
      " 3   spacod               19146 non-null  int64  \n",
      " 4   UpliftRestrictions   19146 non-null  object \n",
      " 5   ThroughSPAflag       19146 non-null  object \n",
      " 6   MultilateralCarrier  19146 non-null  object \n",
      " 7   InvoluntaryRerouted  19146 non-null  object \n",
      " 8   InvoluntaryEndorsed  19146 non-null  object \n",
      " 9   Indemnification      19146 non-null  object \n",
      " 10  sidetrip             19146 non-null  object \n",
      " 11  originalreissueflg   19146 non-null  object \n",
      " 12  Transportation       19146 non-null  object \n",
      " 13  ownSurchargebilling  19146 non-null  object \n",
      " 14  mixedclassoptions    19146 non-null  object \n",
      " 15  sectorFareComponent  19146 non-null  object \n",
      " 16  spaoncodeshare       19146 non-null  object \n",
      " 17  OALsurchargebilling  19146 non-null  object \n",
      " 18  spashareflag         19146 non-null  object \n",
      " 19  FRMLAT               19146 non-null  float64\n",
      " 20  FRMLON               19146 non-null  float64\n",
      " 21  TOOLAT               19146 non-null  float64\n",
      " 22  TOOLON               19146 non-null  float64\n",
      " 23  bilamt               19146 non-null  float64\n",
      " 24  bilcnt               19146 non-null  int64  \n",
      " 25  outcome              19146 non-null  int64  \n",
      "dtypes: float64(5), int64(4), object(17)\n",
      "memory usage: 3.8+ MB\n"
     ]
    }
   ],
   "source": [
    "spa_data.info()"
   ]
  },
  {
   "cell_type": "code",
   "execution_count": 116,
   "metadata": {},
   "outputs": [
    {
     "data": {
      "text/plain": [
       "procarnumcod           0\n",
       "fromarportcod          0\n",
       "toarportcod            0\n",
       "spacod                 0\n",
       "UpliftRestrictions     0\n",
       "ThroughSPAflag         0\n",
       "MultilateralCarrier    0\n",
       "InvoluntaryRerouted    0\n",
       "InvoluntaryEndorsed    0\n",
       "Indemnification        0\n",
       "sidetrip               0\n",
       "originalreissueflg     0\n",
       "Transportation         0\n",
       "ownSurchargebilling    0\n",
       "mixedclassoptions      0\n",
       "sectorFareComponent    0\n",
       "spaoncodeshare         0\n",
       "OALsurchargebilling    0\n",
       "spashareflag           0\n",
       "FRMLAT                 0\n",
       "FRMLON                 0\n",
       "TOOLAT                 0\n",
       "TOOLON                 0\n",
       "bilamt                 0\n",
       "bilcnt                 0\n",
       "outcome                0\n",
       "dtype: int64"
      ]
     },
     "execution_count": 116,
     "metadata": {},
     "output_type": "execute_result"
    }
   ],
   "source": [
    "spa_data.isnull().sum()"
   ]
  },
  {
   "cell_type": "code",
   "execution_count": 117,
   "metadata": {},
   "outputs": [],
   "source": [
    "spa_data['procarnumcod']=spa_data['procarnumcod'].astype('category').cat.codes\n",
    "spa_data['fromarportcod']=spa_data['fromarportcod'].astype('category').cat.codes\n",
    "spa_data['toarportcod']=spa_data['toarportcod'].astype('category').cat.codes\n",
    "spa_data['UpliftRestrictions']=spa_data['UpliftRestrictions'].astype('category').cat.codes\n",
    "spa_data['ThroughSPAflag']=spa_data['ThroughSPAflag'].astype('category').cat.codes\n",
    "spa_data['MultilateralCarrier']=spa_data['MultilateralCarrier'].astype('category').cat.codes\n",
    "spa_data['InvoluntaryRerouted']=spa_data['InvoluntaryRerouted'].astype('category').cat.codes\n",
    "spa_data['InvoluntaryEndorsed']=spa_data['InvoluntaryEndorsed'].astype('category').cat.codes\n",
    "spa_data['Indemnification']=spa_data['Indemnification'].astype('category').cat.codes\n",
    "spa_data['sidetrip']=spa_data['sidetrip'].astype('category').cat.codes\n",
    "spa_data['originalreissueflg']=spa_data['originalreissueflg'].astype('category').cat.codes\n",
    "spa_data['Transportation']=spa_data['Transportation'].astype('category').cat.codes\n",
    "spa_data['ownSurchargebilling']=spa_data['ownSurchargebilling'].astype('category').cat.codes\n",
    "spa_data['mixedclassoptions']=spa_data['mixedclassoptions'].astype('category').cat.codes\n",
    "spa_data['sectorFareComponent']=spa_data['sectorFareComponent'].astype('category').cat.codes\n",
    "spa_data['spaoncodeshare']=spa_data['spaoncodeshare'].astype('category').cat.codes\n",
    "spa_data['OALsurchargebilling']=spa_data['OALsurchargebilling'].astype('category').cat.codes\n",
    "spa_data['spashareflag']=spa_data['spashareflag'].astype('category').cat.codes\n",
    "\n"
   ]
  },
  {
   "cell_type": "code",
   "execution_count": 118,
   "metadata": {},
   "outputs": [
    {
     "data": {
      "text/html": [
       "<div>\n",
       "<style scoped>\n",
       "    .dataframe tbody tr th:only-of-type {\n",
       "        vertical-align: middle;\n",
       "    }\n",
       "\n",
       "    .dataframe tbody tr th {\n",
       "        vertical-align: top;\n",
       "    }\n",
       "\n",
       "    .dataframe thead th {\n",
       "        text-align: right;\n",
       "    }\n",
       "</style>\n",
       "<table border=\"1\" class=\"dataframe\">\n",
       "  <thead>\n",
       "    <tr style=\"text-align: right;\">\n",
       "      <th></th>\n",
       "      <th>procarnumcod</th>\n",
       "      <th>fromarportcod</th>\n",
       "      <th>toarportcod</th>\n",
       "      <th>spacod</th>\n",
       "      <th>UpliftRestrictions</th>\n",
       "      <th>ThroughSPAflag</th>\n",
       "      <th>MultilateralCarrier</th>\n",
       "      <th>InvoluntaryRerouted</th>\n",
       "      <th>InvoluntaryEndorsed</th>\n",
       "      <th>Indemnification</th>\n",
       "      <th>...</th>\n",
       "      <th>spaoncodeshare</th>\n",
       "      <th>OALsurchargebilling</th>\n",
       "      <th>spashareflag</th>\n",
       "      <th>FRMLAT</th>\n",
       "      <th>FRMLON</th>\n",
       "      <th>TOOLAT</th>\n",
       "      <th>TOOLON</th>\n",
       "      <th>bilamt</th>\n",
       "      <th>bilcnt</th>\n",
       "      <th>outcome</th>\n",
       "    </tr>\n",
       "  </thead>\n",
       "  <tbody>\n",
       "    <tr>\n",
       "      <th>0</th>\n",
       "      <td>36</td>\n",
       "      <td>355</td>\n",
       "      <td>527</td>\n",
       "      <td>42</td>\n",
       "      <td>4</td>\n",
       "      <td>1</td>\n",
       "      <td>4</td>\n",
       "      <td>0</td>\n",
       "      <td>5</td>\n",
       "      <td>0</td>\n",
       "      <td>...</td>\n",
       "      <td>2</td>\n",
       "      <td>5</td>\n",
       "      <td>2</td>\n",
       "      <td>14.508600</td>\n",
       "      <td>121.019997</td>\n",
       "      <td>9.665442</td>\n",
       "      <td>123.853533</td>\n",
       "      <td>1737091.58</td>\n",
       "      <td>45717</td>\n",
       "      <td>5</td>\n",
       "    </tr>\n",
       "    <tr>\n",
       "      <th>1</th>\n",
       "      <td>39</td>\n",
       "      <td>215</td>\n",
       "      <td>373</td>\n",
       "      <td>3</td>\n",
       "      <td>4</td>\n",
       "      <td>1</td>\n",
       "      <td>4</td>\n",
       "      <td>0</td>\n",
       "      <td>5</td>\n",
       "      <td>0</td>\n",
       "      <td>...</td>\n",
       "      <td>2</td>\n",
       "      <td>5</td>\n",
       "      <td>2</td>\n",
       "      <td>22.308901</td>\n",
       "      <td>113.915001</td>\n",
       "      <td>14.508600</td>\n",
       "      <td>121.019997</td>\n",
       "      <td>1735964.20</td>\n",
       "      <td>13901</td>\n",
       "      <td>5</td>\n",
       "    </tr>\n",
       "    <tr>\n",
       "      <th>2</th>\n",
       "      <td>25</td>\n",
       "      <td>355</td>\n",
       "      <td>98</td>\n",
       "      <td>14</td>\n",
       "      <td>4</td>\n",
       "      <td>1</td>\n",
       "      <td>4</td>\n",
       "      <td>0</td>\n",
       "      <td>5</td>\n",
       "      <td>0</td>\n",
       "      <td>...</td>\n",
       "      <td>2</td>\n",
       "      <td>5</td>\n",
       "      <td>2</td>\n",
       "      <td>14.508600</td>\n",
       "      <td>121.019997</td>\n",
       "      <td>-6.125570</td>\n",
       "      <td>106.655998</td>\n",
       "      <td>1723632.50</td>\n",
       "      <td>9100</td>\n",
       "      <td>5</td>\n",
       "    </tr>\n",
       "    <tr>\n",
       "      <th>3</th>\n",
       "      <td>25</td>\n",
       "      <td>92</td>\n",
       "      <td>373</td>\n",
       "      <td>14</td>\n",
       "      <td>4</td>\n",
       "      <td>1</td>\n",
       "      <td>4</td>\n",
       "      <td>0</td>\n",
       "      <td>5</td>\n",
       "      <td>0</td>\n",
       "      <td>...</td>\n",
       "      <td>2</td>\n",
       "      <td>5</td>\n",
       "      <td>2</td>\n",
       "      <td>-6.125570</td>\n",
       "      <td>106.655998</td>\n",
       "      <td>14.508600</td>\n",
       "      <td>121.019997</td>\n",
       "      <td>1715746.00</td>\n",
       "      <td>9061</td>\n",
       "      <td>5</td>\n",
       "    </tr>\n",
       "    <tr>\n",
       "      <th>4</th>\n",
       "      <td>1</td>\n",
       "      <td>327</td>\n",
       "      <td>308</td>\n",
       "      <td>11</td>\n",
       "      <td>4</td>\n",
       "      <td>1</td>\n",
       "      <td>4</td>\n",
       "      <td>0</td>\n",
       "      <td>5</td>\n",
       "      <td>0</td>\n",
       "      <td>...</td>\n",
       "      <td>2</td>\n",
       "      <td>5</td>\n",
       "      <td>2</td>\n",
       "      <td>28.429399</td>\n",
       "      <td>-81.308998</td>\n",
       "      <td>33.942501</td>\n",
       "      <td>-118.407997</td>\n",
       "      <td>1679249.97</td>\n",
       "      <td>6007</td>\n",
       "      <td>5</td>\n",
       "    </tr>\n",
       "    <tr>\n",
       "      <th>...</th>\n",
       "      <td>...</td>\n",
       "      <td>...</td>\n",
       "      <td>...</td>\n",
       "      <td>...</td>\n",
       "      <td>...</td>\n",
       "      <td>...</td>\n",
       "      <td>...</td>\n",
       "      <td>...</td>\n",
       "      <td>...</td>\n",
       "      <td>...</td>\n",
       "      <td>...</td>\n",
       "      <td>...</td>\n",
       "      <td>...</td>\n",
       "      <td>...</td>\n",
       "      <td>...</td>\n",
       "      <td>...</td>\n",
       "      <td>...</td>\n",
       "      <td>...</td>\n",
       "      <td>...</td>\n",
       "      <td>...</td>\n",
       "      <td>...</td>\n",
       "    </tr>\n",
       "    <tr>\n",
       "      <th>19141</th>\n",
       "      <td>73</td>\n",
       "      <td>433</td>\n",
       "      <td>60</td>\n",
       "      <td>1</td>\n",
       "      <td>3</td>\n",
       "      <td>0</td>\n",
       "      <td>3</td>\n",
       "      <td>3</td>\n",
       "      <td>1</td>\n",
       "      <td>3</td>\n",
       "      <td>...</td>\n",
       "      <td>0</td>\n",
       "      <td>5</td>\n",
       "      <td>0</td>\n",
       "      <td>-31.435801</td>\n",
       "      <td>152.863007</td>\n",
       "      <td>-27.384199</td>\n",
       "      <td>153.117004</td>\n",
       "      <td>62.02</td>\n",
       "      <td>1</td>\n",
       "      <td>0</td>\n",
       "    </tr>\n",
       "    <tr>\n",
       "      <th>19142</th>\n",
       "      <td>1</td>\n",
       "      <td>398</td>\n",
       "      <td>499</td>\n",
       "      <td>7</td>\n",
       "      <td>3</td>\n",
       "      <td>0</td>\n",
       "      <td>3</td>\n",
       "      <td>3</td>\n",
       "      <td>1</td>\n",
       "      <td>3</td>\n",
       "      <td>...</td>\n",
       "      <td>0</td>\n",
       "      <td>5</td>\n",
       "      <td>0</td>\n",
       "      <td>41.978600</td>\n",
       "      <td>-87.904800</td>\n",
       "      <td>32.446602</td>\n",
       "      <td>-93.825600</td>\n",
       "      <td>62.03</td>\n",
       "      <td>1</td>\n",
       "      <td>0</td>\n",
       "    </tr>\n",
       "    <tr>\n",
       "      <th>19143</th>\n",
       "      <td>2</td>\n",
       "      <td>100</td>\n",
       "      <td>175</td>\n",
       "      <td>8</td>\n",
       "      <td>3</td>\n",
       "      <td>0</td>\n",
       "      <td>3</td>\n",
       "      <td>3</td>\n",
       "      <td>1</td>\n",
       "      <td>3</td>\n",
       "      <td>...</td>\n",
       "      <td>0</td>\n",
       "      <td>5</td>\n",
       "      <td>0</td>\n",
       "      <td>32.898602</td>\n",
       "      <td>-80.040497</td>\n",
       "      <td>40.692501</td>\n",
       "      <td>-74.168701</td>\n",
       "      <td>62.04</td>\n",
       "      <td>1</td>\n",
       "      <td>0</td>\n",
       "    </tr>\n",
       "    <tr>\n",
       "      <th>19144</th>\n",
       "      <td>3</td>\n",
       "      <td>26</td>\n",
       "      <td>351</td>\n",
       "      <td>8</td>\n",
       "      <td>3</td>\n",
       "      <td>0</td>\n",
       "      <td>3</td>\n",
       "      <td>3</td>\n",
       "      <td>1</td>\n",
       "      <td>3</td>\n",
       "      <td>...</td>\n",
       "      <td>0</td>\n",
       "      <td>5</td>\n",
       "      <td>0</td>\n",
       "      <td>33.636700</td>\n",
       "      <td>-84.428101</td>\n",
       "      <td>41.785999</td>\n",
       "      <td>-87.752403</td>\n",
       "      <td>62.04</td>\n",
       "      <td>1</td>\n",
       "      <td>0</td>\n",
       "    </tr>\n",
       "    <tr>\n",
       "      <th>19145</th>\n",
       "      <td>3</td>\n",
       "      <td>151</td>\n",
       "      <td>442</td>\n",
       "      <td>21</td>\n",
       "      <td>3</td>\n",
       "      <td>0</td>\n",
       "      <td>3</td>\n",
       "      <td>3</td>\n",
       "      <td>1</td>\n",
       "      <td>3</td>\n",
       "      <td>...</td>\n",
       "      <td>0</td>\n",
       "      <td>5</td>\n",
       "      <td>0</td>\n",
       "      <td>42.212399</td>\n",
       "      <td>-83.353401</td>\n",
       "      <td>40.491501</td>\n",
       "      <td>-80.232903</td>\n",
       "      <td>62.04</td>\n",
       "      <td>2</td>\n",
       "      <td>0</td>\n",
       "    </tr>\n",
       "  </tbody>\n",
       "</table>\n",
       "<p>19146 rows × 26 columns</p>\n",
       "</div>"
      ],
      "text/plain": [
       "       procarnumcod  fromarportcod  toarportcod  spacod  UpliftRestrictions  \\\n",
       "0                36            355          527      42                   4   \n",
       "1                39            215          373       3                   4   \n",
       "2                25            355           98      14                   4   \n",
       "3                25             92          373      14                   4   \n",
       "4                 1            327          308      11                   4   \n",
       "...             ...            ...          ...     ...                 ...   \n",
       "19141            73            433           60       1                   3   \n",
       "19142             1            398          499       7                   3   \n",
       "19143             2            100          175       8                   3   \n",
       "19144             3             26          351       8                   3   \n",
       "19145             3            151          442      21                   3   \n",
       "\n",
       "       ThroughSPAflag  MultilateralCarrier  InvoluntaryRerouted  \\\n",
       "0                   1                    4                    0   \n",
       "1                   1                    4                    0   \n",
       "2                   1                    4                    0   \n",
       "3                   1                    4                    0   \n",
       "4                   1                    4                    0   \n",
       "...               ...                  ...                  ...   \n",
       "19141               0                    3                    3   \n",
       "19142               0                    3                    3   \n",
       "19143               0                    3                    3   \n",
       "19144               0                    3                    3   \n",
       "19145               0                    3                    3   \n",
       "\n",
       "       InvoluntaryEndorsed  Indemnification  ...  spaoncodeshare  \\\n",
       "0                        5                0  ...               2   \n",
       "1                        5                0  ...               2   \n",
       "2                        5                0  ...               2   \n",
       "3                        5                0  ...               2   \n",
       "4                        5                0  ...               2   \n",
       "...                    ...              ...  ...             ...   \n",
       "19141                    1                3  ...               0   \n",
       "19142                    1                3  ...               0   \n",
       "19143                    1                3  ...               0   \n",
       "19144                    1                3  ...               0   \n",
       "19145                    1                3  ...               0   \n",
       "\n",
       "       OALsurchargebilling  spashareflag     FRMLAT      FRMLON     TOOLAT  \\\n",
       "0                        5             2  14.508600  121.019997   9.665442   \n",
       "1                        5             2  22.308901  113.915001  14.508600   \n",
       "2                        5             2  14.508600  121.019997  -6.125570   \n",
       "3                        5             2  -6.125570  106.655998  14.508600   \n",
       "4                        5             2  28.429399  -81.308998  33.942501   \n",
       "...                    ...           ...        ...         ...        ...   \n",
       "19141                    5             0 -31.435801  152.863007 -27.384199   \n",
       "19142                    5             0  41.978600  -87.904800  32.446602   \n",
       "19143                    5             0  32.898602  -80.040497  40.692501   \n",
       "19144                    5             0  33.636700  -84.428101  41.785999   \n",
       "19145                    5             0  42.212399  -83.353401  40.491501   \n",
       "\n",
       "           TOOLON      bilamt  bilcnt  outcome  \n",
       "0      123.853533  1737091.58   45717        5  \n",
       "1      121.019997  1735964.20   13901        5  \n",
       "2      106.655998  1723632.50    9100        5  \n",
       "3      121.019997  1715746.00    9061        5  \n",
       "4     -118.407997  1679249.97    6007        5  \n",
       "...           ...         ...     ...      ...  \n",
       "19141  153.117004       62.02       1        0  \n",
       "19142  -93.825600       62.03       1        0  \n",
       "19143  -74.168701       62.04       1        0  \n",
       "19144  -87.752403       62.04       1        0  \n",
       "19145  -80.232903       62.04       2        0  \n",
       "\n",
       "[19146 rows x 26 columns]"
      ]
     },
     "execution_count": 118,
     "metadata": {},
     "output_type": "execute_result"
    }
   ],
   "source": [
    "spa_data"
   ]
  },
  {
   "cell_type": "code",
   "execution_count": 119,
   "metadata": {},
   "outputs": [
    {
     "data": {
      "text/html": [
       "<div>\n",
       "<style scoped>\n",
       "    .dataframe tbody tr th:only-of-type {\n",
       "        vertical-align: middle;\n",
       "    }\n",
       "\n",
       "    .dataframe tbody tr th {\n",
       "        vertical-align: top;\n",
       "    }\n",
       "\n",
       "    .dataframe thead th {\n",
       "        text-align: right;\n",
       "    }\n",
       "</style>\n",
       "<table border=\"1\" class=\"dataframe\">\n",
       "  <thead>\n",
       "    <tr style=\"text-align: right;\">\n",
       "      <th></th>\n",
       "      <th>procarnumcod</th>\n",
       "      <th>fromarportcod</th>\n",
       "      <th>toarportcod</th>\n",
       "      <th>spacod</th>\n",
       "      <th>UpliftRestrictions</th>\n",
       "      <th>ThroughSPAflag</th>\n",
       "      <th>MultilateralCarrier</th>\n",
       "      <th>InvoluntaryRerouted</th>\n",
       "      <th>InvoluntaryEndorsed</th>\n",
       "      <th>Indemnification</th>\n",
       "      <th>...</th>\n",
       "      <th>spaoncodeshare</th>\n",
       "      <th>OALsurchargebilling</th>\n",
       "      <th>spashareflag</th>\n",
       "      <th>FRMLAT</th>\n",
       "      <th>FRMLON</th>\n",
       "      <th>TOOLAT</th>\n",
       "      <th>TOOLON</th>\n",
       "      <th>bilamt</th>\n",
       "      <th>bilcnt</th>\n",
       "      <th>outcome</th>\n",
       "    </tr>\n",
       "  </thead>\n",
       "  <tbody>\n",
       "    <tr>\n",
       "      <th>count</th>\n",
       "      <td>19146.000000</td>\n",
       "      <td>19146.000000</td>\n",
       "      <td>19146.000000</td>\n",
       "      <td>19146.000000</td>\n",
       "      <td>19146.000000</td>\n",
       "      <td>19146.000000</td>\n",
       "      <td>19146.000000</td>\n",
       "      <td>19146.000000</td>\n",
       "      <td>19146.000000</td>\n",
       "      <td>19146.000000</td>\n",
       "      <td>...</td>\n",
       "      <td>19146.000000</td>\n",
       "      <td>19146.000000</td>\n",
       "      <td>19146.000000</td>\n",
       "      <td>19146.000000</td>\n",
       "      <td>19146.000000</td>\n",
       "      <td>19146.000000</td>\n",
       "      <td>19146.000000</td>\n",
       "      <td>1.914600e+04</td>\n",
       "      <td>19146.000000</td>\n",
       "      <td>19146.000000</td>\n",
       "    </tr>\n",
       "    <tr>\n",
       "      <th>mean</th>\n",
       "      <td>27.651311</td>\n",
       "      <td>289.139716</td>\n",
       "      <td>309.676643</td>\n",
       "      <td>15.638358</td>\n",
       "      <td>2.240834</td>\n",
       "      <td>2.604356</td>\n",
       "      <td>2.240834</td>\n",
       "      <td>2.089679</td>\n",
       "      <td>2.791288</td>\n",
       "      <td>2.089679</td>\n",
       "      <td>...</td>\n",
       "      <td>2.293586</td>\n",
       "      <td>2.951374</td>\n",
       "      <td>2.293586</td>\n",
       "      <td>25.824302</td>\n",
       "      <td>16.407323</td>\n",
       "      <td>25.663369</td>\n",
       "      <td>16.526506</td>\n",
       "      <td>4.395672e+04</td>\n",
       "      <td>412.004440</td>\n",
       "      <td>1.699676</td>\n",
       "    </tr>\n",
       "    <tr>\n",
       "      <th>std</th>\n",
       "      <td>27.276161</td>\n",
       "      <td>160.607468</td>\n",
       "      <td>169.192359</td>\n",
       "      <td>13.142389</td>\n",
       "      <td>1.692386</td>\n",
       "      <td>1.705842</td>\n",
       "      <td>1.692386</td>\n",
       "      <td>1.787233</td>\n",
       "      <td>1.660850</td>\n",
       "      <td>1.787233</td>\n",
       "      <td>...</td>\n",
       "      <td>1.739510</td>\n",
       "      <td>1.782591</td>\n",
       "      <td>1.739510</td>\n",
       "      <td>16.272421</td>\n",
       "      <td>106.629662</td>\n",
       "      <td>16.419439</td>\n",
       "      <td>106.283136</td>\n",
       "      <td>3.160590e+05</td>\n",
       "      <td>3247.547195</td>\n",
       "      <td>1.541099</td>\n",
       "    </tr>\n",
       "    <tr>\n",
       "      <th>min</th>\n",
       "      <td>0.000000</td>\n",
       "      <td>0.000000</td>\n",
       "      <td>0.000000</td>\n",
       "      <td>1.000000</td>\n",
       "      <td>0.000000</td>\n",
       "      <td>0.000000</td>\n",
       "      <td>0.000000</td>\n",
       "      <td>0.000000</td>\n",
       "      <td>0.000000</td>\n",
       "      <td>0.000000</td>\n",
       "      <td>...</td>\n",
       "      <td>0.000000</td>\n",
       "      <td>0.000000</td>\n",
       "      <td>0.000000</td>\n",
       "      <td>-45.928101</td>\n",
       "      <td>-159.339004</td>\n",
       "      <td>-45.928101</td>\n",
       "      <td>-159.806000</td>\n",
       "      <td>0.000000e+00</td>\n",
       "      <td>1.000000</td>\n",
       "      <td>0.000000</td>\n",
       "    </tr>\n",
       "    <tr>\n",
       "      <th>25%</th>\n",
       "      <td>3.000000</td>\n",
       "      <td>151.000000</td>\n",
       "      <td>159.000000</td>\n",
       "      <td>6.000000</td>\n",
       "      <td>1.000000</td>\n",
       "      <td>1.000000</td>\n",
       "      <td>1.000000</td>\n",
       "      <td>1.000000</td>\n",
       "      <td>2.000000</td>\n",
       "      <td>1.000000</td>\n",
       "      <td>...</td>\n",
       "      <td>1.000000</td>\n",
       "      <td>1.000000</td>\n",
       "      <td>1.000000</td>\n",
       "      <td>14.508600</td>\n",
       "      <td>-86.753502</td>\n",
       "      <td>14.508600</td>\n",
       "      <td>-86.294403</td>\n",
       "      <td>2.250000e+02</td>\n",
       "      <td>2.000000</td>\n",
       "      <td>0.000000</td>\n",
       "    </tr>\n",
       "    <tr>\n",
       "      <th>50%</th>\n",
       "      <td>25.000000</td>\n",
       "      <td>297.000000</td>\n",
       "      <td>331.500000</td>\n",
       "      <td>12.000000</td>\n",
       "      <td>2.000000</td>\n",
       "      <td>3.000000</td>\n",
       "      <td>2.000000</td>\n",
       "      <td>2.000000</td>\n",
       "      <td>3.000000</td>\n",
       "      <td>2.000000</td>\n",
       "      <td>...</td>\n",
       "      <td>2.000000</td>\n",
       "      <td>3.000000</td>\n",
       "      <td>2.000000</td>\n",
       "      <td>28.566500</td>\n",
       "      <td>54.651100</td>\n",
       "      <td>28.429399</td>\n",
       "      <td>54.651100</td>\n",
       "      <td>9.752950e+02</td>\n",
       "      <td>8.000000</td>\n",
       "      <td>2.000000</td>\n",
       "    </tr>\n",
       "    <tr>\n",
       "      <th>75%</th>\n",
       "      <td>42.000000</td>\n",
       "      <td>398.000000</td>\n",
       "      <td>431.000000</td>\n",
       "      <td>20.000000</td>\n",
       "      <td>4.000000</td>\n",
       "      <td>4.000000</td>\n",
       "      <td>4.000000</td>\n",
       "      <td>4.000000</td>\n",
       "      <td>4.000000</td>\n",
       "      <td>4.000000</td>\n",
       "      <td>...</td>\n",
       "      <td>4.000000</td>\n",
       "      <td>5.000000</td>\n",
       "      <td>4.000000</td>\n",
       "      <td>37.618999</td>\n",
       "      <td>121.019997</td>\n",
       "      <td>37.618999</td>\n",
       "      <td>121.019997</td>\n",
       "      <td>6.983453e+03</td>\n",
       "      <td>57.000000</td>\n",
       "      <td>3.000000</td>\n",
       "    </tr>\n",
       "    <tr>\n",
       "      <th>max</th>\n",
       "      <td>82.000000</td>\n",
       "      <td>597.000000</td>\n",
       "      <td>630.000000</td>\n",
       "      <td>84.000000</td>\n",
       "      <td>5.000000</td>\n",
       "      <td>5.000000</td>\n",
       "      <td>5.000000</td>\n",
       "      <td>5.000000</td>\n",
       "      <td>5.000000</td>\n",
       "      <td>5.000000</td>\n",
       "      <td>...</td>\n",
       "      <td>5.000000</td>\n",
       "      <td>5.000000</td>\n",
       "      <td>5.000000</td>\n",
       "      <td>62.462799</td>\n",
       "      <td>176.869995</td>\n",
       "      <td>62.462799</td>\n",
       "      <td>177.442993</td>\n",
       "      <td>1.531055e+07</td>\n",
       "      <td>132776.000000</td>\n",
       "      <td>5.000000</td>\n",
       "    </tr>\n",
       "  </tbody>\n",
       "</table>\n",
       "<p>8 rows × 26 columns</p>\n",
       "</div>"
      ],
      "text/plain": [
       "       procarnumcod  fromarportcod   toarportcod        spacod  \\\n",
       "count  19146.000000   19146.000000  19146.000000  19146.000000   \n",
       "mean      27.651311     289.139716    309.676643     15.638358   \n",
       "std       27.276161     160.607468    169.192359     13.142389   \n",
       "min        0.000000       0.000000      0.000000      1.000000   \n",
       "25%        3.000000     151.000000    159.000000      6.000000   \n",
       "50%       25.000000     297.000000    331.500000     12.000000   \n",
       "75%       42.000000     398.000000    431.000000     20.000000   \n",
       "max       82.000000     597.000000    630.000000     84.000000   \n",
       "\n",
       "       UpliftRestrictions  ThroughSPAflag  MultilateralCarrier  \\\n",
       "count        19146.000000    19146.000000         19146.000000   \n",
       "mean             2.240834        2.604356             2.240834   \n",
       "std              1.692386        1.705842             1.692386   \n",
       "min              0.000000        0.000000             0.000000   \n",
       "25%              1.000000        1.000000             1.000000   \n",
       "50%              2.000000        3.000000             2.000000   \n",
       "75%              4.000000        4.000000             4.000000   \n",
       "max              5.000000        5.000000             5.000000   \n",
       "\n",
       "       InvoluntaryRerouted  InvoluntaryEndorsed  Indemnification  ...  \\\n",
       "count         19146.000000         19146.000000     19146.000000  ...   \n",
       "mean              2.089679             2.791288         2.089679  ...   \n",
       "std               1.787233             1.660850         1.787233  ...   \n",
       "min               0.000000             0.000000         0.000000  ...   \n",
       "25%               1.000000             2.000000         1.000000  ...   \n",
       "50%               2.000000             3.000000         2.000000  ...   \n",
       "75%               4.000000             4.000000         4.000000  ...   \n",
       "max               5.000000             5.000000         5.000000  ...   \n",
       "\n",
       "       spaoncodeshare  OALsurchargebilling  spashareflag        FRMLAT  \\\n",
       "count    19146.000000         19146.000000  19146.000000  19146.000000   \n",
       "mean         2.293586             2.951374      2.293586     25.824302   \n",
       "std          1.739510             1.782591      1.739510     16.272421   \n",
       "min          0.000000             0.000000      0.000000    -45.928101   \n",
       "25%          1.000000             1.000000      1.000000     14.508600   \n",
       "50%          2.000000             3.000000      2.000000     28.566500   \n",
       "75%          4.000000             5.000000      4.000000     37.618999   \n",
       "max          5.000000             5.000000      5.000000     62.462799   \n",
       "\n",
       "             FRMLON        TOOLAT        TOOLON        bilamt         bilcnt  \\\n",
       "count  19146.000000  19146.000000  19146.000000  1.914600e+04   19146.000000   \n",
       "mean      16.407323     25.663369     16.526506  4.395672e+04     412.004440   \n",
       "std      106.629662     16.419439    106.283136  3.160590e+05    3247.547195   \n",
       "min     -159.339004    -45.928101   -159.806000  0.000000e+00       1.000000   \n",
       "25%      -86.753502     14.508600    -86.294403  2.250000e+02       2.000000   \n",
       "50%       54.651100     28.429399     54.651100  9.752950e+02       8.000000   \n",
       "75%      121.019997     37.618999    121.019997  6.983453e+03      57.000000   \n",
       "max      176.869995     62.462799    177.442993  1.531055e+07  132776.000000   \n",
       "\n",
       "            outcome  \n",
       "count  19146.000000  \n",
       "mean       1.699676  \n",
       "std        1.541099  \n",
       "min        0.000000  \n",
       "25%        0.000000  \n",
       "50%        2.000000  \n",
       "75%        3.000000  \n",
       "max        5.000000  \n",
       "\n",
       "[8 rows x 26 columns]"
      ]
     },
     "execution_count": 119,
     "metadata": {},
     "output_type": "execute_result"
    }
   ],
   "source": [
    "spa_data.describe()"
   ]
  },
  {
   "cell_type": "code",
   "execution_count": 120,
   "metadata": {},
   "outputs": [
    {
     "data": {
      "text/plain": [
       "array([[<AxesSubplot:title={'center':'procarnumcod'}>,\n",
       "        <AxesSubplot:title={'center':'fromarportcod'}>,\n",
       "        <AxesSubplot:title={'center':'toarportcod'}>,\n",
       "        <AxesSubplot:title={'center':'spacod'}>,\n",
       "        <AxesSubplot:title={'center':'UpliftRestrictions'}>],\n",
       "       [<AxesSubplot:title={'center':'ThroughSPAflag'}>,\n",
       "        <AxesSubplot:title={'center':'MultilateralCarrier'}>,\n",
       "        <AxesSubplot:title={'center':'InvoluntaryRerouted'}>,\n",
       "        <AxesSubplot:title={'center':'InvoluntaryEndorsed'}>,\n",
       "        <AxesSubplot:title={'center':'Indemnification'}>],\n",
       "       [<AxesSubplot:title={'center':'sidetrip'}>,\n",
       "        <AxesSubplot:title={'center':'originalreissueflg'}>,\n",
       "        <AxesSubplot:title={'center':'Transportation'}>,\n",
       "        <AxesSubplot:title={'center':'ownSurchargebilling'}>,\n",
       "        <AxesSubplot:title={'center':'mixedclassoptions'}>],\n",
       "       [<AxesSubplot:title={'center':'sectorFareComponent'}>,\n",
       "        <AxesSubplot:title={'center':'spaoncodeshare'}>,\n",
       "        <AxesSubplot:title={'center':'OALsurchargebilling'}>,\n",
       "        <AxesSubplot:title={'center':'spashareflag'}>,\n",
       "        <AxesSubplot:title={'center':'FRMLAT'}>],\n",
       "       [<AxesSubplot:title={'center':'FRMLON'}>,\n",
       "        <AxesSubplot:title={'center':'TOOLAT'}>,\n",
       "        <AxesSubplot:title={'center':'TOOLON'}>,\n",
       "        <AxesSubplot:title={'center':'bilamt'}>,\n",
       "        <AxesSubplot:title={'center':'bilcnt'}>],\n",
       "       [<AxesSubplot:title={'center':'outcome'}>, <AxesSubplot:>,\n",
       "        <AxesSubplot:>, <AxesSubplot:>, <AxesSubplot:>]], dtype=object)"
      ]
     },
     "execution_count": 120,
     "metadata": {},
     "output_type": "execute_result"
    },
    {
     "data": {
      "image/png": "[encoded data removed]",
      "text/plain": [
       "<Figure size 1152x864 with 30 Axes>"
      ]
     },
     "metadata": {
      "needs_background": "light"
     },
     "output_type": "display_data"
    }
   ],
   "source": [
    "\n",
    "spa_data.hist(figsize=(16,12))"
   ]
  },
  {
   "cell_type": "markdown",
   "metadata": {},
   "source": [
    "Check the correlation for each of the fields"
   ]
  },
  {
   "cell_type": "code",
   "execution_count": 121,
   "metadata": {},
   "outputs": [
    {
     "data": {
      "text/html": [
       "<div>\n",
       "<style scoped>\n",
       "    .dataframe tbody tr th:only-of-type {\n",
       "        vertical-align: middle;\n",
       "    }\n",
       "\n",
       "    .dataframe tbody tr th {\n",
       "        vertical-align: top;\n",
       "    }\n",
       "\n",
       "    .dataframe thead th {\n",
       "        text-align: right;\n",
       "    }\n",
       "</style>\n",
       "<table border=\"1\" class=\"dataframe\">\n",
       "  <thead>\n",
       "    <tr style=\"text-align: right;\">\n",
       "      <th></th>\n",
       "      <th>procarnumcod</th>\n",
       "      <th>fromarportcod</th>\n",
       "      <th>toarportcod</th>\n",
       "      <th>spacod</th>\n",
       "      <th>UpliftRestrictions</th>\n",
       "      <th>ThroughSPAflag</th>\n",
       "      <th>MultilateralCarrier</th>\n",
       "      <th>InvoluntaryRerouted</th>\n",
       "      <th>InvoluntaryEndorsed</th>\n",
       "      <th>Indemnification</th>\n",
       "      <th>...</th>\n",
       "      <th>spaoncodeshare</th>\n",
       "      <th>OALsurchargebilling</th>\n",
       "      <th>spashareflag</th>\n",
       "      <th>FRMLAT</th>\n",
       "      <th>FRMLON</th>\n",
       "      <th>TOOLAT</th>\n",
       "      <th>TOOLON</th>\n",
       "      <th>bilamt</th>\n",
       "      <th>bilcnt</th>\n",
       "      <th>outcome</th>\n",
       "    </tr>\n",
       "  </thead>\n",
       "  <tbody>\n",
       "    <tr>\n",
       "      <th>procarnumcod</th>\n",
       "      <td>1.000000</td>\n",
       "      <td>0.259124</td>\n",
       "      <td>0.236689</td>\n",
       "      <td>0.016610</td>\n",
       "      <td>-0.002034</td>\n",
       "      <td>0.013465</td>\n",
       "      <td>-0.002034</td>\n",
       "      <td>-0.049622</td>\n",
       "      <td>0.002650</td>\n",
       "      <td>-0.049622</td>\n",
       "      <td>...</td>\n",
       "      <td>-0.008253</td>\n",
       "      <td>0.036151</td>\n",
       "      <td>-0.008253</td>\n",
       "      <td>-0.157798</td>\n",
       "      <td>0.407467</td>\n",
       "      <td>-0.151426</td>\n",
       "      <td>0.409774</td>\n",
       "      <td>0.032093</td>\n",
       "      <td>0.037675</td>\n",
       "      <td>0.151101</td>\n",
       "    </tr>\n",
       "    <tr>\n",
       "      <th>fromarportcod</th>\n",
       "      <td>0.259124</td>\n",
       "      <td>1.000000</td>\n",
       "      <td>0.159227</td>\n",
       "      <td>-0.068144</td>\n",
       "      <td>0.017047</td>\n",
       "      <td>-0.010634</td>\n",
       "      <td>0.017047</td>\n",
       "      <td>-0.008126</td>\n",
       "      <td>-0.006807</td>\n",
       "      <td>-0.008126</td>\n",
       "      <td>...</td>\n",
       "      <td>0.006233</td>\n",
       "      <td>0.009051</td>\n",
       "      <td>0.006233</td>\n",
       "      <td>0.145626</td>\n",
       "      <td>-0.053930</td>\n",
       "      <td>0.104625</td>\n",
       "      <td>-0.047550</td>\n",
       "      <td>0.006101</td>\n",
       "      <td>0.016916</td>\n",
       "      <td>0.041310</td>\n",
       "    </tr>\n",
       "    <tr>\n",
       "      <th>toarportcod</th>\n",
       "      <td>0.236689</td>\n",
       "      <td>0.159227</td>\n",
       "      <td>1.000000</td>\n",
       "      <td>-0.064737</td>\n",
       "      <td>0.002915</td>\n",
       "      <td>0.004626</td>\n",
       "      <td>0.002915</td>\n",
       "      <td>0.000781</td>\n",
       "      <td>0.010990</td>\n",
       "      <td>0.000781</td>\n",
       "      <td>...</td>\n",
       "      <td>0.001442</td>\n",
       "      <td>0.013698</td>\n",
       "      <td>0.001442</td>\n",
       "      <td>0.124967</td>\n",
       "      <td>-0.071392</td>\n",
       "      <td>0.159895</td>\n",
       "      <td>-0.073900</td>\n",
       "      <td>-0.006882</td>\n",
       "      <td>0.010432</td>\n",
       "      <td>0.032433</td>\n",
       "    </tr>\n",
       "    <tr>\n",
       "      <th>spacod</th>\n",
       "      <td>0.016610</td>\n",
       "      <td>-0.068144</td>\n",
       "      <td>-0.064737</td>\n",
       "      <td>1.000000</td>\n",
       "      <td>0.005377</td>\n",
       "      <td>-0.019588</td>\n",
       "      <td>0.005377</td>\n",
       "      <td>-0.053617</td>\n",
       "      <td>0.016468</td>\n",
       "      <td>-0.053617</td>\n",
       "      <td>...</td>\n",
       "      <td>-0.008312</td>\n",
       "      <td>0.038400</td>\n",
       "      <td>-0.008312</td>\n",
       "      <td>-0.074912</td>\n",
       "      <td>0.042072</td>\n",
       "      <td>-0.067059</td>\n",
       "      <td>0.043933</td>\n",
       "      <td>0.061035</td>\n",
       "      <td>0.112153</td>\n",
       "      <td>0.095667</td>\n",
       "    </tr>\n",
       "    <tr>\n",
       "      <th>UpliftRestrictions</th>\n",
       "      <td>-0.002034</td>\n",
       "      <td>0.017047</td>\n",
       "      <td>0.002915</td>\n",
       "      <td>0.005377</td>\n",
       "      <td>1.000000</td>\n",
       "      <td>-0.105077</td>\n",
       "      <td>1.000000</td>\n",
       "      <td>0.179484</td>\n",
       "      <td>0.092141</td>\n",
       "      <td>0.179484</td>\n",
       "      <td>...</td>\n",
       "      <td>0.271893</td>\n",
       "      <td>0.013006</td>\n",
       "      <td>0.271893</td>\n",
       "      <td>0.005052</td>\n",
       "      <td>-0.001330</td>\n",
       "      <td>0.009221</td>\n",
       "      <td>-0.003142</td>\n",
       "      <td>0.114013</td>\n",
       "      <td>0.103269</td>\n",
       "      <td>-0.015345</td>\n",
       "    </tr>\n",
       "    <tr>\n",
       "      <th>ThroughSPAflag</th>\n",
       "      <td>0.013465</td>\n",
       "      <td>-0.010634</td>\n",
       "      <td>0.004626</td>\n",
       "      <td>-0.019588</td>\n",
       "      <td>-0.105077</td>\n",
       "      <td>1.000000</td>\n",
       "      <td>-0.105077</td>\n",
       "      <td>0.324840</td>\n",
       "      <td>-0.081046</td>\n",
       "      <td>0.324840</td>\n",
       "      <td>...</td>\n",
       "      <td>0.225049</td>\n",
       "      <td>-0.102726</td>\n",
       "      <td>0.225049</td>\n",
       "      <td>-0.005706</td>\n",
       "      <td>0.013035</td>\n",
       "      <td>-0.006665</td>\n",
       "      <td>0.012635</td>\n",
       "      <td>-0.111843</td>\n",
       "      <td>-0.100888</td>\n",
       "      <td>-0.082674</td>\n",
       "    </tr>\n",
       "    <tr>\n",
       "      <th>MultilateralCarrier</th>\n",
       "      <td>-0.002034</td>\n",
       "      <td>0.017047</td>\n",
       "      <td>0.002915</td>\n",
       "      <td>0.005377</td>\n",
       "      <td>1.000000</td>\n",
       "      <td>-0.105077</td>\n",
       "      <td>1.000000</td>\n",
       "      <td>0.179484</td>\n",
       "      <td>0.092141</td>\n",
       "      <td>0.179484</td>\n",
       "      <td>...</td>\n",
       "      <td>0.271893</td>\n",
       "      <td>0.013006</td>\n",
       "      <td>0.271893</td>\n",
       "      <td>0.005052</td>\n",
       "      <td>-0.001330</td>\n",
       "      <td>0.009221</td>\n",
       "      <td>-0.003142</td>\n",
       "      <td>0.114013</td>\n",
       "      <td>0.103269</td>\n",
       "      <td>-0.015345</td>\n",
       "    </tr>\n",
       "    <tr>\n",
       "      <th>InvoluntaryRerouted</th>\n",
       "      <td>-0.049622</td>\n",
       "      <td>-0.008126</td>\n",
       "      <td>0.000781</td>\n",
       "      <td>-0.053617</td>\n",
       "      <td>0.179484</td>\n",
       "      <td>0.324840</td>\n",
       "      <td>0.179484</td>\n",
       "      <td>1.000000</td>\n",
       "      <td>0.064956</td>\n",
       "      <td>1.000000</td>\n",
       "      <td>...</td>\n",
       "      <td>0.366547</td>\n",
       "      <td>-0.026781</td>\n",
       "      <td>0.366547</td>\n",
       "      <td>0.054313</td>\n",
       "      <td>-0.062537</td>\n",
       "      <td>0.046913</td>\n",
       "      <td>-0.061149</td>\n",
       "      <td>-0.144577</td>\n",
       "      <td>-0.130728</td>\n",
       "      <td>-0.337776</td>\n",
       "    </tr>\n",
       "    <tr>\n",
       "      <th>InvoluntaryEndorsed</th>\n",
       "      <td>0.002650</td>\n",
       "      <td>-0.006807</td>\n",
       "      <td>0.010990</td>\n",
       "      <td>0.016468</td>\n",
       "      <td>0.092141</td>\n",
       "      <td>-0.081046</td>\n",
       "      <td>0.092141</td>\n",
       "      <td>0.064956</td>\n",
       "      <td>1.000000</td>\n",
       "      <td>0.064956</td>\n",
       "      <td>...</td>\n",
       "      <td>0.074400</td>\n",
       "      <td>0.343037</td>\n",
       "      <td>0.074400</td>\n",
       "      <td>-0.003228</td>\n",
       "      <td>0.010111</td>\n",
       "      <td>-0.008325</td>\n",
       "      <td>0.007755</td>\n",
       "      <td>0.151134</td>\n",
       "      <td>0.136650</td>\n",
       "      <td>0.098483</td>\n",
       "    </tr>\n",
       "    <tr>\n",
       "      <th>Indemnification</th>\n",
       "      <td>-0.049622</td>\n",
       "      <td>-0.008126</td>\n",
       "      <td>0.000781</td>\n",
       "      <td>-0.053617</td>\n",
       "      <td>0.179484</td>\n",
       "      <td>0.324840</td>\n",
       "      <td>0.179484</td>\n",
       "      <td>1.000000</td>\n",
       "      <td>0.064956</td>\n",
       "      <td>1.000000</td>\n",
       "      <td>...</td>\n",
       "      <td>0.366547</td>\n",
       "      <td>-0.026781</td>\n",
       "      <td>0.366547</td>\n",
       "      <td>0.054313</td>\n",
       "      <td>-0.062537</td>\n",
       "      <td>0.046913</td>\n",
       "      <td>-0.061149</td>\n",
       "      <td>-0.144577</td>\n",
       "      <td>-0.130728</td>\n",
       "      <td>-0.337776</td>\n",
       "    </tr>\n",
       "    <tr>\n",
       "      <th>sidetrip</th>\n",
       "      <td>0.027530</td>\n",
       "      <td>0.020359</td>\n",
       "      <td>0.011178</td>\n",
       "      <td>0.019256</td>\n",
       "      <td>0.447646</td>\n",
       "      <td>-0.054644</td>\n",
       "      <td>0.447646</td>\n",
       "      <td>-0.088517</td>\n",
       "      <td>0.095362</td>\n",
       "      <td>-0.088517</td>\n",
       "      <td>...</td>\n",
       "      <td>0.243961</td>\n",
       "      <td>0.109949</td>\n",
       "      <td>0.243961</td>\n",
       "      <td>-0.009733</td>\n",
       "      <td>0.011017</td>\n",
       "      <td>-0.000900</td>\n",
       "      <td>0.009384</td>\n",
       "      <td>0.083031</td>\n",
       "      <td>0.075322</td>\n",
       "      <td>0.011231</td>\n",
       "    </tr>\n",
       "    <tr>\n",
       "      <th>originalreissueflg</th>\n",
       "      <td>-0.017547</td>\n",
       "      <td>-0.008802</td>\n",
       "      <td>-0.002758</td>\n",
       "      <td>-0.008025</td>\n",
       "      <td>-0.326354</td>\n",
       "      <td>-0.120191</td>\n",
       "      <td>-0.326354</td>\n",
       "      <td>-0.148155</td>\n",
       "      <td>0.094785</td>\n",
       "      <td>-0.148155</td>\n",
       "      <td>...</td>\n",
       "      <td>-0.352809</td>\n",
       "      <td>-0.134998</td>\n",
       "      <td>-0.352809</td>\n",
       "      <td>0.031678</td>\n",
       "      <td>-0.042258</td>\n",
       "      <td>0.030676</td>\n",
       "      <td>-0.042124</td>\n",
       "      <td>-0.152681</td>\n",
       "      <td>-0.138203</td>\n",
       "      <td>-0.101668</td>\n",
       "    </tr>\n",
       "    <tr>\n",
       "      <th>Transportation</th>\n",
       "      <td>0.027530</td>\n",
       "      <td>0.020359</td>\n",
       "      <td>0.011178</td>\n",
       "      <td>0.019256</td>\n",
       "      <td>0.447646</td>\n",
       "      <td>-0.054644</td>\n",
       "      <td>0.447646</td>\n",
       "      <td>-0.088517</td>\n",
       "      <td>0.095362</td>\n",
       "      <td>-0.088517</td>\n",
       "      <td>...</td>\n",
       "      <td>0.243961</td>\n",
       "      <td>0.109949</td>\n",
       "      <td>0.243961</td>\n",
       "      <td>-0.009733</td>\n",
       "      <td>0.011017</td>\n",
       "      <td>-0.000900</td>\n",
       "      <td>0.009384</td>\n",
       "      <td>0.083031</td>\n",
       "      <td>0.075322</td>\n",
       "      <td>0.011231</td>\n",
       "    </tr>\n",
       "    <tr>\n",
       "      <th>ownSurchargebilling</th>\n",
       "      <td>0.015325</td>\n",
       "      <td>-0.002006</td>\n",
       "      <td>-0.005181</td>\n",
       "      <td>0.004416</td>\n",
       "      <td>-0.253183</td>\n",
       "      <td>0.022080</td>\n",
       "      <td>-0.253183</td>\n",
       "      <td>-0.081413</td>\n",
       "      <td>-0.222303</td>\n",
       "      <td>-0.081413</td>\n",
       "      <td>...</td>\n",
       "      <td>-0.035163</td>\n",
       "      <td>-0.107747</td>\n",
       "      <td>-0.035163</td>\n",
       "      <td>-0.010628</td>\n",
       "      <td>0.015925</td>\n",
       "      <td>-0.013020</td>\n",
       "      <td>0.015980</td>\n",
       "      <td>-0.123192</td>\n",
       "      <td>-0.111381</td>\n",
       "      <td>0.031531</td>\n",
       "    </tr>\n",
       "    <tr>\n",
       "      <th>mixedclassoptions</th>\n",
       "      <td>-0.024330</td>\n",
       "      <td>-0.011137</td>\n",
       "      <td>-0.009888</td>\n",
       "      <td>-0.006176</td>\n",
       "      <td>0.300486</td>\n",
       "      <td>0.032699</td>\n",
       "      <td>0.300486</td>\n",
       "      <td>0.153873</td>\n",
       "      <td>-0.024563</td>\n",
       "      <td>0.153873</td>\n",
       "      <td>...</td>\n",
       "      <td>0.155179</td>\n",
       "      <td>-0.041033</td>\n",
       "      <td>0.155179</td>\n",
       "      <td>0.006478</td>\n",
       "      <td>-0.011910</td>\n",
       "      <td>0.008874</td>\n",
       "      <td>-0.010771</td>\n",
       "      <td>0.147398</td>\n",
       "      <td>0.133075</td>\n",
       "      <td>-0.094527</td>\n",
       "    </tr>\n",
       "    <tr>\n",
       "      <th>sectorFareComponent</th>\n",
       "      <td>0.015325</td>\n",
       "      <td>-0.002006</td>\n",
       "      <td>-0.005181</td>\n",
       "      <td>0.004416</td>\n",
       "      <td>-0.253183</td>\n",
       "      <td>0.022080</td>\n",
       "      <td>-0.253183</td>\n",
       "      <td>-0.081413</td>\n",
       "      <td>-0.222303</td>\n",
       "      <td>-0.081413</td>\n",
       "      <td>...</td>\n",
       "      <td>-0.035163</td>\n",
       "      <td>-0.107747</td>\n",
       "      <td>-0.035163</td>\n",
       "      <td>-0.010628</td>\n",
       "      <td>0.015925</td>\n",
       "      <td>-0.013020</td>\n",
       "      <td>0.015980</td>\n",
       "      <td>-0.123192</td>\n",
       "      <td>-0.111381</td>\n",
       "      <td>0.031531</td>\n",
       "    </tr>\n",
       "    <tr>\n",
       "      <th>spaoncodeshare</th>\n",
       "      <td>-0.008253</td>\n",
       "      <td>0.006233</td>\n",
       "      <td>0.001442</td>\n",
       "      <td>-0.008312</td>\n",
       "      <td>0.271893</td>\n",
       "      <td>0.225049</td>\n",
       "      <td>0.271893</td>\n",
       "      <td>0.366547</td>\n",
       "      <td>0.074400</td>\n",
       "      <td>0.366547</td>\n",
       "      <td>...</td>\n",
       "      <td>1.000000</td>\n",
       "      <td>0.178881</td>\n",
       "      <td>1.000000</td>\n",
       "      <td>0.008725</td>\n",
       "      <td>-0.015320</td>\n",
       "      <td>0.009445</td>\n",
       "      <td>-0.015894</td>\n",
       "      <td>-0.031171</td>\n",
       "      <td>-0.028111</td>\n",
       "      <td>-0.176780</td>\n",
       "    </tr>\n",
       "    <tr>\n",
       "      <th>OALsurchargebilling</th>\n",
       "      <td>0.036151</td>\n",
       "      <td>0.009051</td>\n",
       "      <td>0.013698</td>\n",
       "      <td>0.038400</td>\n",
       "      <td>0.013006</td>\n",
       "      <td>-0.102726</td>\n",
       "      <td>0.013006</td>\n",
       "      <td>-0.026781</td>\n",
       "      <td>0.343037</td>\n",
       "      <td>-0.026781</td>\n",
       "      <td>...</td>\n",
       "      <td>0.178881</td>\n",
       "      <td>1.000000</td>\n",
       "      <td>0.178881</td>\n",
       "      <td>-0.048200</td>\n",
       "      <td>0.057587</td>\n",
       "      <td>-0.051776</td>\n",
       "      <td>0.056748</td>\n",
       "      <td>0.141424</td>\n",
       "      <td>0.128312</td>\n",
       "      <td>0.267147</td>\n",
       "    </tr>\n",
       "    <tr>\n",
       "      <th>spashareflag</th>\n",
       "      <td>-0.008253</td>\n",
       "      <td>0.006233</td>\n",
       "      <td>0.001442</td>\n",
       "      <td>-0.008312</td>\n",
       "      <td>0.271893</td>\n",
       "      <td>0.225049</td>\n",
       "      <td>0.271893</td>\n",
       "      <td>0.366547</td>\n",
       "      <td>0.074400</td>\n",
       "      <td>0.366547</td>\n",
       "      <td>...</td>\n",
       "      <td>1.000000</td>\n",
       "      <td>0.178881</td>\n",
       "      <td>1.000000</td>\n",
       "      <td>0.008725</td>\n",
       "      <td>-0.015320</td>\n",
       "      <td>0.009445</td>\n",
       "      <td>-0.015894</td>\n",
       "      <td>-0.031171</td>\n",
       "      <td>-0.028111</td>\n",
       "      <td>-0.176780</td>\n",
       "    </tr>\n",
       "    <tr>\n",
       "      <th>FRMLAT</th>\n",
       "      <td>-0.157798</td>\n",
       "      <td>0.145626</td>\n",
       "      <td>0.124967</td>\n",
       "      <td>-0.074912</td>\n",
       "      <td>0.005052</td>\n",
       "      <td>-0.005706</td>\n",
       "      <td>0.005052</td>\n",
       "      <td>0.054313</td>\n",
       "      <td>-0.003228</td>\n",
       "      <td>0.054313</td>\n",
       "      <td>...</td>\n",
       "      <td>0.008725</td>\n",
       "      <td>-0.048200</td>\n",
       "      <td>0.008725</td>\n",
       "      <td>1.000000</td>\n",
       "      <td>-0.656254</td>\n",
       "      <td>0.749032</td>\n",
       "      <td>-0.624604</td>\n",
       "      <td>-0.045151</td>\n",
       "      <td>-0.060746</td>\n",
       "      <td>-0.167657</td>\n",
       "    </tr>\n",
       "    <tr>\n",
       "      <th>FRMLON</th>\n",
       "      <td>0.407467</td>\n",
       "      <td>-0.053930</td>\n",
       "      <td>-0.071392</td>\n",
       "      <td>0.042072</td>\n",
       "      <td>-0.001330</td>\n",
       "      <td>0.013035</td>\n",
       "      <td>-0.001330</td>\n",
       "      <td>-0.062537</td>\n",
       "      <td>0.010111</td>\n",
       "      <td>-0.062537</td>\n",
       "      <td>...</td>\n",
       "      <td>-0.015320</td>\n",
       "      <td>0.057587</td>\n",
       "      <td>-0.015320</td>\n",
       "      <td>-0.656254</td>\n",
       "      <td>1.000000</td>\n",
       "      <td>-0.619044</td>\n",
       "      <td>0.938260</td>\n",
       "      <td>0.060978</td>\n",
       "      <td>0.073387</td>\n",
       "      <td>0.190355</td>\n",
       "    </tr>\n",
       "    <tr>\n",
       "      <th>TOOLAT</th>\n",
       "      <td>-0.151426</td>\n",
       "      <td>0.104625</td>\n",
       "      <td>0.159895</td>\n",
       "      <td>-0.067059</td>\n",
       "      <td>0.009221</td>\n",
       "      <td>-0.006665</td>\n",
       "      <td>0.009221</td>\n",
       "      <td>0.046913</td>\n",
       "      <td>-0.008325</td>\n",
       "      <td>0.046913</td>\n",
       "      <td>...</td>\n",
       "      <td>0.009445</td>\n",
       "      <td>-0.051776</td>\n",
       "      <td>0.009445</td>\n",
       "      <td>0.749032</td>\n",
       "      <td>-0.619044</td>\n",
       "      <td>1.000000</td>\n",
       "      <td>-0.653689</td>\n",
       "      <td>-0.037604</td>\n",
       "      <td>-0.057800</td>\n",
       "      <td>-0.165680</td>\n",
       "    </tr>\n",
       "    <tr>\n",
       "      <th>TOOLON</th>\n",
       "      <td>0.409774</td>\n",
       "      <td>-0.047550</td>\n",
       "      <td>-0.073900</td>\n",
       "      <td>0.043933</td>\n",
       "      <td>-0.003142</td>\n",
       "      <td>0.012635</td>\n",
       "      <td>-0.003142</td>\n",
       "      <td>-0.061149</td>\n",
       "      <td>0.007755</td>\n",
       "      <td>-0.061149</td>\n",
       "      <td>...</td>\n",
       "      <td>-0.015894</td>\n",
       "      <td>0.056748</td>\n",
       "      <td>-0.015894</td>\n",
       "      <td>-0.624604</td>\n",
       "      <td>0.938260</td>\n",
       "      <td>-0.653689</td>\n",
       "      <td>1.000000</td>\n",
       "      <td>0.058395</td>\n",
       "      <td>0.073155</td>\n",
       "      <td>0.192176</td>\n",
       "    </tr>\n",
       "    <tr>\n",
       "      <th>bilamt</th>\n",
       "      <td>0.032093</td>\n",
       "      <td>0.006101</td>\n",
       "      <td>-0.006882</td>\n",
       "      <td>0.061035</td>\n",
       "      <td>0.114013</td>\n",
       "      <td>-0.111843</td>\n",
       "      <td>0.114013</td>\n",
       "      <td>-0.144577</td>\n",
       "      <td>0.151134</td>\n",
       "      <td>-0.144577</td>\n",
       "      <td>...</td>\n",
       "      <td>-0.031171</td>\n",
       "      <td>0.141424</td>\n",
       "      <td>-0.031171</td>\n",
       "      <td>-0.045151</td>\n",
       "      <td>0.060978</td>\n",
       "      <td>-0.037604</td>\n",
       "      <td>0.058395</td>\n",
       "      <td>1.000000</td>\n",
       "      <td>0.627259</td>\n",
       "      <td>0.281132</td>\n",
       "    </tr>\n",
       "    <tr>\n",
       "      <th>bilcnt</th>\n",
       "      <td>0.037675</td>\n",
       "      <td>0.016916</td>\n",
       "      <td>0.010432</td>\n",
       "      <td>0.112153</td>\n",
       "      <td>0.103269</td>\n",
       "      <td>-0.100888</td>\n",
       "      <td>0.103269</td>\n",
       "      <td>-0.130728</td>\n",
       "      <td>0.136650</td>\n",
       "      <td>-0.130728</td>\n",
       "      <td>...</td>\n",
       "      <td>-0.028111</td>\n",
       "      <td>0.128312</td>\n",
       "      <td>-0.028111</td>\n",
       "      <td>-0.060746</td>\n",
       "      <td>0.073387</td>\n",
       "      <td>-0.057800</td>\n",
       "      <td>0.073155</td>\n",
       "      <td>0.627259</td>\n",
       "      <td>1.000000</td>\n",
       "      <td>0.257078</td>\n",
       "    </tr>\n",
       "    <tr>\n",
       "      <th>outcome</th>\n",
       "      <td>0.151101</td>\n",
       "      <td>0.041310</td>\n",
       "      <td>0.032433</td>\n",
       "      <td>0.095667</td>\n",
       "      <td>-0.015345</td>\n",
       "      <td>-0.082674</td>\n",
       "      <td>-0.015345</td>\n",
       "      <td>-0.337776</td>\n",
       "      <td>0.098483</td>\n",
       "      <td>-0.337776</td>\n",
       "      <td>...</td>\n",
       "      <td>-0.176780</td>\n",
       "      <td>0.267147</td>\n",
       "      <td>-0.176780</td>\n",
       "      <td>-0.167657</td>\n",
       "      <td>0.190355</td>\n",
       "      <td>-0.165680</td>\n",
       "      <td>0.192176</td>\n",
       "      <td>0.281132</td>\n",
       "      <td>0.257078</td>\n",
       "      <td>1.000000</td>\n",
       "    </tr>\n",
       "  </tbody>\n",
       "</table>\n",
       "<p>26 rows × 26 columns</p>\n",
       "</div>"
      ],
      "text/plain": [
       "                     procarnumcod  fromarportcod  toarportcod    spacod  \\\n",
       "procarnumcod             1.000000       0.259124     0.236689  0.016610   \n",
       "fromarportcod            0.259124       1.000000     0.159227 -0.068144   \n",
       "toarportcod              0.236689       0.159227     1.000000 -0.064737   \n",
       "spacod                   0.016610      -0.068144    -0.064737  1.000000   \n",
       "UpliftRestrictions      -0.002034       0.017047     0.002915  0.005377   \n",
       "ThroughSPAflag           0.013465      -0.010634     0.004626 -0.019588   \n",
       "MultilateralCarrier     -0.002034       0.017047     0.002915  0.005377   \n",
       "InvoluntaryRerouted     -0.049622      -0.008126     0.000781 -0.053617   \n",
       "InvoluntaryEndorsed      0.002650      -0.006807     0.010990  0.016468   \n",
       "Indemnification         -0.049622      -0.008126     0.000781 -0.053617   \n",
       "sidetrip                 0.027530       0.020359     0.011178  0.019256   \n",
       "originalreissueflg      -0.017547      -0.008802    -0.002758 -0.008025   \n",
       "Transportation           0.027530       0.020359     0.011178  0.019256   \n",
       "ownSurchargebilling      0.015325      -0.002006    -0.005181  0.004416   \n",
       "mixedclassoptions       -0.024330      -0.011137    -0.009888 -0.006176   \n",
       "sectorFareComponent      0.015325      -0.002006    -0.005181  0.004416   \n",
       "spaoncodeshare          -0.008253       0.006233     0.001442 -0.008312   \n",
       "OALsurchargebilling      0.036151       0.009051     0.013698  0.038400   \n",
       "spashareflag            -0.008253       0.006233     0.001442 -0.008312   \n",
       "FRMLAT                  -0.157798       0.145626     0.124967 -0.074912   \n",
       "FRMLON                   0.407467      -0.053930    -0.071392  0.042072   \n",
       "TOOLAT                  -0.151426       0.104625     0.159895 -0.067059   \n",
       "TOOLON                   0.409774      -0.047550    -0.073900  0.043933   \n",
       "bilamt                   0.032093       0.006101    -0.006882  0.061035   \n",
       "bilcnt                   0.037675       0.016916     0.010432  0.112153   \n",
       "outcome                  0.151101       0.041310     0.032433  0.095667   \n",
       "\n",
       "                     UpliftRestrictions  ThroughSPAflag  MultilateralCarrier  \\\n",
       "procarnumcod                  -0.002034        0.013465            -0.002034   \n",
       "fromarportcod                  0.017047       -0.010634             0.017047   \n",
       "toarportcod                    0.002915        0.004626             0.002915   \n",
       "spacod                         0.005377       -0.019588             0.005377   \n",
       "UpliftRestrictions             1.000000       -0.105077             1.000000   \n",
       "ThroughSPAflag                -0.105077        1.000000            -0.105077   \n",
       "MultilateralCarrier            1.000000       -0.105077             1.000000   \n",
       "InvoluntaryRerouted            0.179484        0.324840             0.179484   \n",
       "InvoluntaryEndorsed            0.092141       -0.081046             0.092141   \n",
       "Indemnification                0.179484        0.324840             0.179484   \n",
       "sidetrip                       0.447646       -0.054644             0.447646   \n",
       "originalreissueflg            -0.326354       -0.120191            -0.326354   \n",
       "Transportation                 0.447646       -0.054644             0.447646   \n",
       "ownSurchargebilling           -0.253183        0.022080            -0.253183   \n",
       "mixedclassoptions              0.300486        0.032699             0.300486   \n",
       "sectorFareComponent           -0.253183        0.022080            -0.253183   \n",
       "spaoncodeshare                 0.271893        0.225049             0.271893   \n",
       "OALsurchargebilling            0.013006       -0.102726             0.013006   \n",
       "spashareflag                   0.271893        0.225049             0.271893   \n",
       "FRMLAT                         0.005052       -0.005706             0.005052   \n",
       "FRMLON                        -0.001330        0.013035            -0.001330   \n",
       "TOOLAT                         0.009221       -0.006665             0.009221   \n",
       "TOOLON                        -0.003142        0.012635            -0.003142   \n",
       "bilamt                         0.114013       -0.111843             0.114013   \n",
       "bilcnt                         0.103269       -0.100888             0.103269   \n",
       "outcome                       -0.015345       -0.082674            -0.015345   \n",
       "\n",
       "                     InvoluntaryRerouted  InvoluntaryEndorsed  \\\n",
       "procarnumcod                   -0.049622             0.002650   \n",
       "fromarportcod                  -0.008126            -0.006807   \n",
       "toarportcod                     0.000781             0.010990   \n",
       "spacod                         -0.053617             0.016468   \n",
       "UpliftRestrictions              0.179484             0.092141   \n",
       "ThroughSPAflag                  0.324840            -0.081046   \n",
       "MultilateralCarrier             0.179484             0.092141   \n",
       "InvoluntaryRerouted             1.000000             0.064956   \n",
       "InvoluntaryEndorsed             0.064956             1.000000   \n",
       "Indemnification                 1.000000             0.064956   \n",
       "sidetrip                       -0.088517             0.095362   \n",
       "originalreissueflg             -0.148155             0.094785   \n",
       "Transportation                 -0.088517             0.095362   \n",
       "ownSurchargebilling            -0.081413            -0.222303   \n",
       "mixedclassoptions               0.153873            -0.024563   \n",
       "sectorFareComponent            -0.081413            -0.222303   \n",
       "spaoncodeshare                  0.366547             0.074400   \n",
       "OALsurchargebilling            -0.026781             0.343037   \n",
       "spashareflag                    0.366547             0.074400   \n",
       "FRMLAT                          0.054313            -0.003228   \n",
       "FRMLON                         -0.062537             0.010111   \n",
       "TOOLAT                          0.046913            -0.008325   \n",
       "TOOLON                         -0.061149             0.007755   \n",
       "bilamt                         -0.144577             0.151134   \n",
       "bilcnt                         -0.130728             0.136650   \n",
       "outcome                        -0.337776             0.098483   \n",
       "\n",
       "                     Indemnification  ...  spaoncodeshare  \\\n",
       "procarnumcod               -0.049622  ...       -0.008253   \n",
       "fromarportcod              -0.008126  ...        0.006233   \n",
       "toarportcod                 0.000781  ...        0.001442   \n",
       "spacod                     -0.053617  ...       -0.008312   \n",
       "UpliftRestrictions          0.179484  ...        0.271893   \n",
       "ThroughSPAflag              0.324840  ...        0.225049   \n",
       "MultilateralCarrier         0.179484  ...        0.271893   \n",
       "InvoluntaryRerouted         1.000000  ...        0.366547   \n",
       "InvoluntaryEndorsed         0.064956  ...        0.074400   \n",
       "Indemnification             1.000000  ...        0.366547   \n",
       "sidetrip                   -0.088517  ...        0.243961   \n",
       "originalreissueflg         -0.148155  ...       -0.352809   \n",
       "Transportation             -0.088517  ...        0.243961   \n",
       "ownSurchargebilling        -0.081413  ...       -0.035163   \n",
       "mixedclassoptions           0.153873  ...        0.155179   \n",
       "sectorFareComponent        -0.081413  ...       -0.035163   \n",
       "spaoncodeshare              0.366547  ...        1.000000   \n",
       "OALsurchargebilling        -0.026781  ...        0.178881   \n",
       "spashareflag                0.366547  ...        1.000000   \n",
       "FRMLAT                      0.054313  ...        0.008725   \n",
       "FRMLON                     -0.062537  ...       -0.015320   \n",
       "TOOLAT                      0.046913  ...        0.009445   \n",
       "TOOLON                     -0.061149  ...       -0.015894   \n",
       "bilamt                     -0.144577  ...       -0.031171   \n",
       "bilcnt                     -0.130728  ...       -0.028111   \n",
       "outcome                    -0.337776  ...       -0.176780   \n",
       "\n",
       "                     OALsurchargebilling  spashareflag    FRMLAT    FRMLON  \\\n",
       "procarnumcod                    0.036151     -0.008253 -0.157798  0.407467   \n",
       "fromarportcod                   0.009051      0.006233  0.145626 -0.053930   \n",
       "toarportcod                     0.013698      0.001442  0.124967 -0.071392   \n",
       "spacod                          0.038400     -0.008312 -0.074912  0.042072   \n",
       "UpliftRestrictions              0.013006      0.271893  0.005052 -0.001330   \n",
       "ThroughSPAflag                 -0.102726      0.225049 -0.005706  0.013035   \n",
       "MultilateralCarrier             0.013006      0.271893  0.005052 -0.001330   \n",
       "InvoluntaryRerouted            -0.026781      0.366547  0.054313 -0.062537   \n",
       "InvoluntaryEndorsed             0.343037      0.074400 -0.003228  0.010111   \n",
       "Indemnification                -0.026781      0.366547  0.054313 -0.062537   \n",
       "sidetrip                        0.109949      0.243961 -0.009733  0.011017   \n",
       "originalreissueflg             -0.134998     -0.352809  0.031678 -0.042258   \n",
       "Transportation                  0.109949      0.243961 -0.009733  0.011017   \n",
       "ownSurchargebilling            -0.107747     -0.035163 -0.010628  0.015925   \n",
       "mixedclassoptions              -0.041033      0.155179  0.006478 -0.011910   \n",
       "sectorFareComponent            -0.107747     -0.035163 -0.010628  0.015925   \n",
       "spaoncodeshare                  0.178881      1.000000  0.008725 -0.015320   \n",
       "OALsurchargebilling             1.000000      0.178881 -0.048200  0.057587   \n",
       "spashareflag                    0.178881      1.000000  0.008725 -0.015320   \n",
       "FRMLAT                         -0.048200      0.008725  1.000000 -0.656254   \n",
       "FRMLON                          0.057587     -0.015320 -0.656254  1.000000   \n",
       "TOOLAT                         -0.051776      0.009445  0.749032 -0.619044   \n",
       "TOOLON                          0.056748     -0.015894 -0.624604  0.938260   \n",
       "bilamt                          0.141424     -0.031171 -0.045151  0.060978   \n",
       "bilcnt                          0.128312     -0.028111 -0.060746  0.073387   \n",
       "outcome                         0.267147     -0.176780 -0.167657  0.190355   \n",
       "\n",
       "                       TOOLAT    TOOLON    bilamt    bilcnt   outcome  \n",
       "procarnumcod        -0.151426  0.409774  0.032093  0.037675  0.151101  \n",
       "fromarportcod        0.104625 -0.047550  0.006101  0.016916  0.041310  \n",
       "toarportcod          0.159895 -0.073900 -0.006882  0.010432  0.032433  \n",
       "spacod              -0.067059  0.043933  0.061035  0.112153  0.095667  \n",
       "UpliftRestrictions   0.009221 -0.003142  0.114013  0.103269 -0.015345  \n",
       "ThroughSPAflag      -0.006665  0.012635 -0.111843 -0.100888 -0.082674  \n",
       "MultilateralCarrier  0.009221 -0.003142  0.114013  0.103269 -0.015345  \n",
       "InvoluntaryRerouted  0.046913 -0.061149 -0.144577 -0.130728 -0.337776  \n",
       "InvoluntaryEndorsed -0.008325  0.007755  0.151134  0.136650  0.098483  \n",
       "Indemnification      0.046913 -0.061149 -0.144577 -0.130728 -0.337776  \n",
       "sidetrip            -0.000900  0.009384  0.083031  0.075322  0.011231  \n",
       "originalreissueflg   0.030676 -0.042124 -0.152681 -0.138203 -0.101668  \n",
       "Transportation      -0.000900  0.009384  0.083031  0.075322  0.011231  \n",
       "ownSurchargebilling -0.013020  0.015980 -0.123192 -0.111381  0.031531  \n",
       "mixedclassoptions    0.008874 -0.010771  0.147398  0.133075 -0.094527  \n",
       "sectorFareComponent -0.013020  0.015980 -0.123192 -0.111381  0.031531  \n",
       "spaoncodeshare       0.009445 -0.015894 -0.031171 -0.028111 -0.176780  \n",
       "OALsurchargebilling -0.051776  0.056748  0.141424  0.128312  0.267147  \n",
       "spashareflag         0.009445 -0.015894 -0.031171 -0.028111 -0.176780  \n",
       "FRMLAT               0.749032 -0.624604 -0.045151 -0.060746 -0.167657  \n",
       "FRMLON              -0.619044  0.938260  0.060978  0.073387  0.190355  \n",
       "TOOLAT               1.000000 -0.653689 -0.037604 -0.057800 -0.165680  \n",
       "TOOLON              -0.653689  1.000000  0.058395  0.073155  0.192176  \n",
       "bilamt              -0.037604  0.058395  1.000000  0.627259  0.281132  \n",
       "bilcnt              -0.057800  0.073155  0.627259  1.000000  0.257078  \n",
       "outcome             -0.165680  0.192176  0.281132  0.257078  1.000000  \n",
       "\n",
       "[26 rows x 26 columns]"
      ]
     },
     "execution_count": 121,
     "metadata": {},
     "output_type": "execute_result"
    }
   ],
   "source": [
    "spa_data.corr()"
   ]
  },
  {
   "cell_type": "code",
   "execution_count": 122,
   "metadata": {},
   "outputs": [
    {
     "data": {
      "text/plain": [
       "<AxesSubplot:>"
      ]
     },
     "execution_count": 122,
     "metadata": {},
     "output_type": "execute_result"
    },
    {
     "data": {
      "image/png": "[encoded data removed]",
      "text/plain": [
       "<Figure size 1152x576 with 2 Axes>"
      ]
     },
     "metadata": {
      "needs_background": "light"
     },
     "output_type": "display_data"
    }
   ],
   "source": [
    "plt.figure(figsize=(16,8))\n",
    "corr =  spa_data.corr()\n",
    "sns.heatmap(spa_data.corr(), annot=True)"
   ]
  },
  {
   "cell_type": "markdown",
   "metadata": {},
   "source": [
    "From the above correlation plot for the given dataset for SPA profitability, we can easily see which items are related strongly with each other and which items are related weekly with each other.\n",
    "\n",
    "\n",
    "These are some relations which do not depend on each other at all. The below code selects which are highly correlated "
   ]
  },
  {
   "cell_type": "code",
   "execution_count": 123,
   "metadata": {},
   "outputs": [
    {
     "name": "stdout",
     "output_type": "stream",
     "text": [
      "Index(['procarnumcod', 'fromarportcod', 'toarportcod', 'spacod',\n",
      "       'UpliftRestrictions', 'ThroughSPAflag', 'InvoluntaryRerouted',\n",
      "       'InvoluntaryEndorsed', 'sidetrip', 'originalreissueflg',\n",
      "       'ownSurchargebilling', 'mixedclassoptions', 'spaoncodeshare',\n",
      "       'OALsurchargebilling', 'FRMLAT', 'FRMLON', 'TOOLAT', 'bilamt', 'bilcnt',\n",
      "       'outcome'],\n",
      "      dtype='object')\n"
     ]
    }
   ],
   "source": [
    "columns = np.full((corr.shape[0],), True, dtype=bool)\n",
    "\n",
    "for i in range(corr.shape[0]):\n",
    "    for j in range(i+1, corr.shape[0]):\n",
    "        if corr.iloc[i,j] >= 0.9:\n",
    "            if columns[j]:\n",
    "                columns[j] = False\n",
    "\n",
    "\n",
    "selected_columns = spa_data.columns[columns]\n",
    "spa_data = spa_data[selected_columns]\n",
    "print(selected_columns)"
   ]
  },
  {
   "cell_type": "markdown",
   "metadata": {},
   "source": [
    "# EDA"
   ]
  },
  {
   "cell_type": "code",
   "execution_count": 124,
   "metadata": {},
   "outputs": [
    {
     "data": {
      "text/plain": [
       "<AxesSubplot:xlabel='outcome', ylabel='count'>"
      ]
     },
     "execution_count": 124,
     "metadata": {},
     "output_type": "execute_result"
    },
    {
     "data": {
      "image/png": "[encoded data removed]",
      "text/plain": [
       "<Figure size 432x288 with 1 Axes>"
      ]
     },
     "metadata": {
      "needs_background": "light"
     },
     "output_type": "display_data"
    }
   ],
   "source": [
    "sns.countplot(spa_data['outcome'])"
   ]
  },
  {
   "cell_type": "code",
   "execution_count": 125,
   "metadata": {},
   "outputs": [
    {
     "data": {
      "text/plain": [
       "array([5, 4, 3, 2, 1, 0], dtype=int64)"
      ]
     },
     "execution_count": 125,
     "metadata": {},
     "output_type": "execute_result"
    }
   ],
   "source": [
    "spa_data['outcome'].unique()"
   ]
  },
  {
   "cell_type": "code",
   "execution_count": 126,
   "metadata": {},
   "outputs": [
    {
     "data": {
      "text/plain": [
       "<AxesSubplot:xlabel='count', ylabel='outcome'>"
      ]
     },
     "execution_count": 126,
     "metadata": {},
     "output_type": "execute_result"
    },
    {
     "data": {
      "image/png": "[encoded data removed]",
      "text/plain": [
       "<Figure size 432x288 with 1 Axes>"
      ]
     },
     "metadata": {
      "needs_background": "light"
     },
     "output_type": "display_data"
    }
   ],
   "source": [
    "sns.countplot(y= 'outcome',data=spa_data)"
   ]
  },
  {
   "cell_type": "code",
   "execution_count": 127,
   "metadata": {},
   "outputs": [
    {
     "data": {
      "text/plain": [
       "<AxesSubplot:xlabel='outcome', ylabel='count'>"
      ]
     },
     "execution_count": 127,
     "metadata": {},
     "output_type": "execute_result"
    },
    {
     "data": {
      "image/png": "[encoded data removed]",
      "text/plain": [
       "<Figure size 432x288 with 1 Axes>"
      ]
     },
     "metadata": {
      "needs_background": "light"
     },
     "output_type": "display_data"
    }
   ],
   "source": [
    "sns.countplot(x='outcome', hue='UpliftRestrictions',data=spa_data)"
   ]
  },
  {
   "cell_type": "code",
   "execution_count": 128,
   "metadata": {},
   "outputs": [
    {
     "data": {
      "text/plain": [
       "<AxesSubplot:xlabel='outcome', ylabel='ThroughSPAflag'>"
      ]
     },
     "execution_count": 128,
     "metadata": {},
     "output_type": "execute_result"
    },
    {
     "data": {
      "image/png": "[encoded data removed]",
      "text/plain": [
       "<Figure size 432x288 with 1 Axes>"
      ]
     },
     "metadata": {
      "needs_background": "light"
     },
     "output_type": "display_data"
    }
   ],
   "source": [
    "sns.barplot(x = 'outcome', y = 'ThroughSPAflag', data = spa_data)"
   ]
  },
  {
   "cell_type": "code",
   "execution_count": 129,
   "metadata": {},
   "outputs": [
    {
     "data": {
      "text/plain": [
       "<AxesSubplot:xlabel='outcome', ylabel='InvoluntaryRerouted'>"
      ]
     },
     "execution_count": 129,
     "metadata": {},
     "output_type": "execute_result"
    },
    {
     "data": {
      "image/png": "[encoded data removed]",
      "text/plain": [
       "<Figure size 432x288 with 1 Axes>"
      ]
     },
     "metadata": {
      "needs_background": "light"
     },
     "output_type": "display_data"
    }
   ],
   "source": [
    "sns.barplot(x = 'outcome', y = 'InvoluntaryRerouted', data =  spa_data)"
   ]
  },
  {
   "cell_type": "code",
   "execution_count": 130,
   "metadata": {},
   "outputs": [
    {
     "data": {
      "text/plain": [
       "<AxesSubplot:xlabel='outcome', ylabel='sidetrip'>"
      ]
     },
     "execution_count": 130,
     "metadata": {},
     "output_type": "execute_result"
    },
    {
     "data": {
      "image/png": "[encoded data removed]",
      "text/plain": [
       "<Figure size 432x288 with 1 Axes>"
      ]
     },
     "metadata": {
      "needs_background": "light"
     },
     "output_type": "display_data"
    }
   ],
   "source": [
    "sns.barplot(x = 'outcome', y = 'sidetrip', data = spa_data)"
   ]
  },
  {
   "cell_type": "code",
   "execution_count": 131,
   "metadata": {},
   "outputs": [
    {
     "data": {
      "text/plain": [
       "<AxesSubplot:xlabel='outcome', ylabel='originalreissueflg'>"
      ]
     },
     "execution_count": 131,
     "metadata": {},
     "output_type": "execute_result"
    },
    {
     "data": {
      "image/png": "[encoded data removed]",
      "text/plain": [
       "<Figure size 432x288 with 1 Axes>"
      ]
     },
     "metadata": {
      "needs_background": "light"
     },
     "output_type": "display_data"
    }
   ],
   "source": [
    "sns.barplot(x = 'outcome', y = 'originalreissueflg', data = spa_data)"
   ]
  },
  {
   "cell_type": "code",
   "execution_count": 132,
   "metadata": {},
   "outputs": [
    {
     "data": {
      "text/plain": [
       "<AxesSubplot:xlabel='outcome', ylabel='spaoncodeshare'>"
      ]
     },
     "execution_count": 132,
     "metadata": {},
     "output_type": "execute_result"
    },
    {
     "data": {
      "image/png": "[encoded data removed]",
      "text/plain": [
       "<Figure size 432x288 with 1 Axes>"
      ]
     },
     "metadata": {
      "needs_background": "light"
     },
     "output_type": "display_data"
    }
   ],
   "source": [
    "sns.barplot(x = 'outcome', y = 'spaoncodeshare', data = spa_data)"
   ]
  },
  {
   "cell_type": "code",
   "execution_count": 133,
   "metadata": {},
   "outputs": [
    {
     "data": {
      "text/plain": [
       "<AxesSubplot:xlabel='outcome', ylabel='mixedclassoptions'>"
      ]
     },
     "execution_count": 133,
     "metadata": {},
     "output_type": "execute_result"
    },
    {
     "data": {
      "image/png": "[encoded data removed]",
      "text/plain": [
       "<Figure size 432x288 with 1 Axes>"
      ]
     },
     "metadata": {
      "needs_background": "light"
     },
     "output_type": "display_data"
    }
   ],
   "source": [
    "sns.barplot(x = 'outcome', y = 'mixedclassoptions', data = spa_data)"
   ]
  },
  {
   "cell_type": "code",
   "execution_count": 134,
   "metadata": {},
   "outputs": [
    {
     "data": {
      "text/plain": [
       "<AxesSubplot:xlabel='outcome', ylabel='ownSurchargebilling'>"
      ]
     },
     "execution_count": 134,
     "metadata": {},
     "output_type": "execute_result"
    },
    {
     "data": {
      "image/png": "[encoded data removed]",
      "text/plain": [
       "<Figure size 432x288 with 1 Axes>"
      ]
     },
     "metadata": {
      "needs_background": "light"
     },
     "output_type": "display_data"
    }
   ],
   "source": [
    "sns.barplot(x = 'outcome', y = 'ownSurchargebilling', data = spa_data)"
   ]
  },
  {
   "cell_type": "code",
   "execution_count": 135,
   "metadata": {},
   "outputs": [
    {
     "data": {
      "text/plain": [
       "<AxesSubplot:xlabel='outcome', ylabel='procarnumcod'>"
      ]
     },
     "execution_count": 135,
     "metadata": {},
     "output_type": "execute_result"
    },
    {
     "data": {
      "image/png": "[encoded data removed]",
      "text/plain": [
       "<Figure size 432x288 with 1 Axes>"
      ]
     },
     "metadata": {
      "needs_background": "light"
     },
     "output_type": "display_data"
    }
   ],
   "source": [
    "sns.barplot(x = 'outcome', y = 'procarnumcod', data = spa_data)"
   ]
  },
  {
   "cell_type": "code",
   "execution_count": 136,
   "metadata": {},
   "outputs": [
    {
     "data": {
      "text/plain": [
       "<AxesSubplot:xlabel='outcome', ylabel='spaoncodeshare'>"
      ]
     },
     "execution_count": 136,
     "metadata": {},
     "output_type": "execute_result"
    },
    {
     "data": {
      "image/png": "[encoded data removed]",
      "text/plain": [
       "<Figure size 432x288 with 1 Axes>"
      ]
     },
     "metadata": {
      "needs_background": "light"
     },
     "output_type": "display_data"
    }
   ],
   "source": [
    "sns.barplot(x = 'outcome', y = 'spaoncodeshare', data = spa_data)"
   ]
  },
  {
   "cell_type": "markdown",
   "metadata": {},
   "source": [
    "\n",
    "  1. Profitability moderately increases when we have different agreements with carriers (procarnumcod)\n",
    "  2. mixed class options decreases in case of lower counts but good to have if there are lot of passenger traffic \n",
    "  3. reissue tickets increases the profitability but not good if we have high traffic. \n",
    "  4. Through SPA also increases the profitability but not good if we have high traffic. \n"
   ]
  },
  {
   "cell_type": "markdown",
   "metadata": {},
   "source": [
    "# Data Preproccessing"
   ]
  },
  {
   "cell_type": "code",
   "execution_count": 137,
   "metadata": {},
   "outputs": [
    {
     "data": {
      "text/plain": [
       "procarnumcod           0\n",
       "fromarportcod          0\n",
       "toarportcod            0\n",
       "spacod                 0\n",
       "UpliftRestrictions     0\n",
       "ThroughSPAflag         0\n",
       "InvoluntaryRerouted    0\n",
       "InvoluntaryEndorsed    0\n",
       "sidetrip               0\n",
       "originalreissueflg     0\n",
       "ownSurchargebilling    0\n",
       "mixedclassoptions      0\n",
       "spaoncodeshare         0\n",
       "OALsurchargebilling    0\n",
       "FRMLAT                 0\n",
       "FRMLON                 0\n",
       "TOOLAT                 0\n",
       "bilamt                 0\n",
       "bilcnt                 0\n",
       "outcome                0\n",
       "dtype: int64"
      ]
     },
     "execution_count": 137,
     "metadata": {},
     "output_type": "execute_result"
    }
   ],
   "source": [
    "spa_data.isnull().sum()"
   ]
  },
  {
   "cell_type": "code",
   "execution_count": 138,
   "metadata": {},
   "outputs": [],
   "source": [
    "# though there are no nan values just for preprocessing sake \n",
    "spa_data['procarnumcod'] = spa_data['procarnumcod'].fillna(spa_data['procarnumcod'].mean())"
   ]
  },
  {
   "cell_type": "code",
   "execution_count": 139,
   "metadata": {},
   "outputs": [],
   "source": [
    "spa_data_new = spa_data\n",
    "spa_data_new['outcome'] = spa_data_new['outcome'].map({0 : 0, 1 : 0, 2: 1, 3: 1, 4: 3, 5: 3})"
   ]
  },
  {
   "cell_type": "markdown",
   "metadata": {},
   "source": [
    "0 outcome represents the SPA Performance is Not Good.\n",
    "1 outcome represents the SPA Performance is Moderately better.\n",
    "2 outcome represents the SPA Performance is Good"
   ]
  },
  {
   "cell_type": "code",
   "execution_count": 140,
   "metadata": {},
   "outputs": [
    {
     "data": {
      "text/html": [
       "<div>\n",
       "<style scoped>\n",
       "    .dataframe tbody tr th:only-of-type {\n",
       "        vertical-align: middle;\n",
       "    }\n",
       "\n",
       "    .dataframe tbody tr th {\n",
       "        vertical-align: top;\n",
       "    }\n",
       "\n",
       "    .dataframe thead th {\n",
       "        text-align: right;\n",
       "    }\n",
       "</style>\n",
       "<table border=\"1\" class=\"dataframe\">\n",
       "  <thead>\n",
       "    <tr style=\"text-align: right;\">\n",
       "      <th></th>\n",
       "      <th>procarnumcod</th>\n",
       "      <th>fromarportcod</th>\n",
       "      <th>toarportcod</th>\n",
       "      <th>spacod</th>\n",
       "      <th>UpliftRestrictions</th>\n",
       "      <th>ThroughSPAflag</th>\n",
       "      <th>InvoluntaryRerouted</th>\n",
       "      <th>InvoluntaryEndorsed</th>\n",
       "      <th>sidetrip</th>\n",
       "      <th>originalreissueflg</th>\n",
       "      <th>ownSurchargebilling</th>\n",
       "      <th>mixedclassoptions</th>\n",
       "      <th>spaoncodeshare</th>\n",
       "      <th>OALsurchargebilling</th>\n",
       "      <th>FRMLAT</th>\n",
       "      <th>FRMLON</th>\n",
       "      <th>TOOLAT</th>\n",
       "      <th>bilamt</th>\n",
       "      <th>bilcnt</th>\n",
       "      <th>outcome</th>\n",
       "    </tr>\n",
       "  </thead>\n",
       "  <tbody>\n",
       "    <tr>\n",
       "      <th>0</th>\n",
       "      <td>36</td>\n",
       "      <td>355</td>\n",
       "      <td>527</td>\n",
       "      <td>42</td>\n",
       "      <td>4</td>\n",
       "      <td>1</td>\n",
       "      <td>0</td>\n",
       "      <td>5</td>\n",
       "      <td>4</td>\n",
       "      <td>0</td>\n",
       "      <td>1</td>\n",
       "      <td>5</td>\n",
       "      <td>2</td>\n",
       "      <td>5</td>\n",
       "      <td>14.508600</td>\n",
       "      <td>121.019997</td>\n",
       "      <td>9.665442</td>\n",
       "      <td>1737091.58</td>\n",
       "      <td>45717</td>\n",
       "      <td>3</td>\n",
       "    </tr>\n",
       "    <tr>\n",
       "      <th>1</th>\n",
       "      <td>39</td>\n",
       "      <td>215</td>\n",
       "      <td>373</td>\n",
       "      <td>3</td>\n",
       "      <td>4</td>\n",
       "      <td>1</td>\n",
       "      <td>0</td>\n",
       "      <td>5</td>\n",
       "      <td>4</td>\n",
       "      <td>0</td>\n",
       "      <td>1</td>\n",
       "      <td>5</td>\n",
       "      <td>2</td>\n",
       "      <td>5</td>\n",
       "      <td>22.308901</td>\n",
       "      <td>113.915001</td>\n",
       "      <td>14.508600</td>\n",
       "      <td>1735964.20</td>\n",
       "      <td>13901</td>\n",
       "      <td>3</td>\n",
       "    </tr>\n",
       "    <tr>\n",
       "      <th>2</th>\n",
       "      <td>25</td>\n",
       "      <td>355</td>\n",
       "      <td>98</td>\n",
       "      <td>14</td>\n",
       "      <td>4</td>\n",
       "      <td>1</td>\n",
       "      <td>0</td>\n",
       "      <td>5</td>\n",
       "      <td>4</td>\n",
       "      <td>0</td>\n",
       "      <td>1</td>\n",
       "      <td>5</td>\n",
       "      <td>2</td>\n",
       "      <td>5</td>\n",
       "      <td>14.508600</td>\n",
       "      <td>121.019997</td>\n",
       "      <td>-6.125570</td>\n",
       "      <td>1723632.50</td>\n",
       "      <td>9100</td>\n",
       "      <td>3</td>\n",
       "    </tr>\n",
       "    <tr>\n",
       "      <th>3</th>\n",
       "      <td>25</td>\n",
       "      <td>92</td>\n",
       "      <td>373</td>\n",
       "      <td>14</td>\n",
       "      <td>4</td>\n",
       "      <td>1</td>\n",
       "      <td>0</td>\n",
       "      <td>5</td>\n",
       "      <td>4</td>\n",
       "      <td>0</td>\n",
       "      <td>1</td>\n",
       "      <td>5</td>\n",
       "      <td>2</td>\n",
       "      <td>5</td>\n",
       "      <td>-6.125570</td>\n",
       "      <td>106.655998</td>\n",
       "      <td>14.508600</td>\n",
       "      <td>1715746.00</td>\n",
       "      <td>9061</td>\n",
       "      <td>3</td>\n",
       "    </tr>\n",
       "    <tr>\n",
       "      <th>4</th>\n",
       "      <td>1</td>\n",
       "      <td>327</td>\n",
       "      <td>308</td>\n",
       "      <td>11</td>\n",
       "      <td>4</td>\n",
       "      <td>1</td>\n",
       "      <td>0</td>\n",
       "      <td>5</td>\n",
       "      <td>4</td>\n",
       "      <td>0</td>\n",
       "      <td>1</td>\n",
       "      <td>5</td>\n",
       "      <td>2</td>\n",
       "      <td>5</td>\n",
       "      <td>28.429399</td>\n",
       "      <td>-81.308998</td>\n",
       "      <td>33.942501</td>\n",
       "      <td>1679249.97</td>\n",
       "      <td>6007</td>\n",
       "      <td>3</td>\n",
       "    </tr>\n",
       "    <tr>\n",
       "      <th>...</th>\n",
       "      <td>...</td>\n",
       "      <td>...</td>\n",
       "      <td>...</td>\n",
       "      <td>...</td>\n",
       "      <td>...</td>\n",
       "      <td>...</td>\n",
       "      <td>...</td>\n",
       "      <td>...</td>\n",
       "      <td>...</td>\n",
       "      <td>...</td>\n",
       "      <td>...</td>\n",
       "      <td>...</td>\n",
       "      <td>...</td>\n",
       "      <td>...</td>\n",
       "      <td>...</td>\n",
       "      <td>...</td>\n",
       "      <td>...</td>\n",
       "      <td>...</td>\n",
       "      <td>...</td>\n",
       "      <td>...</td>\n",
       "    </tr>\n",
       "    <tr>\n",
       "      <th>19141</th>\n",
       "      <td>73</td>\n",
       "      <td>433</td>\n",
       "      <td>60</td>\n",
       "      <td>1</td>\n",
       "      <td>3</td>\n",
       "      <td>0</td>\n",
       "      <td>3</td>\n",
       "      <td>1</td>\n",
       "      <td>0</td>\n",
       "      <td>3</td>\n",
       "      <td>3</td>\n",
       "      <td>3</td>\n",
       "      <td>0</td>\n",
       "      <td>5</td>\n",
       "      <td>-31.435801</td>\n",
       "      <td>152.863007</td>\n",
       "      <td>-27.384199</td>\n",
       "      <td>62.02</td>\n",
       "      <td>1</td>\n",
       "      <td>0</td>\n",
       "    </tr>\n",
       "    <tr>\n",
       "      <th>19142</th>\n",
       "      <td>1</td>\n",
       "      <td>398</td>\n",
       "      <td>499</td>\n",
       "      <td>7</td>\n",
       "      <td>3</td>\n",
       "      <td>0</td>\n",
       "      <td>3</td>\n",
       "      <td>1</td>\n",
       "      <td>0</td>\n",
       "      <td>3</td>\n",
       "      <td>3</td>\n",
       "      <td>3</td>\n",
       "      <td>0</td>\n",
       "      <td>5</td>\n",
       "      <td>41.978600</td>\n",
       "      <td>-87.904800</td>\n",
       "      <td>32.446602</td>\n",
       "      <td>62.03</td>\n",
       "      <td>1</td>\n",
       "      <td>0</td>\n",
       "    </tr>\n",
       "    <tr>\n",
       "      <th>19143</th>\n",
       "      <td>2</td>\n",
       "      <td>100</td>\n",
       "      <td>175</td>\n",
       "      <td>8</td>\n",
       "      <td>3</td>\n",
       "      <td>0</td>\n",
       "      <td>3</td>\n",
       "      <td>1</td>\n",
       "      <td>0</td>\n",
       "      <td>3</td>\n",
       "      <td>3</td>\n",
       "      <td>3</td>\n",
       "      <td>0</td>\n",
       "      <td>5</td>\n",
       "      <td>32.898602</td>\n",
       "      <td>-80.040497</td>\n",
       "      <td>40.692501</td>\n",
       "      <td>62.04</td>\n",
       "      <td>1</td>\n",
       "      <td>0</td>\n",
       "    </tr>\n",
       "    <tr>\n",
       "      <th>19144</th>\n",
       "      <td>3</td>\n",
       "      <td>26</td>\n",
       "      <td>351</td>\n",
       "      <td>8</td>\n",
       "      <td>3</td>\n",
       "      <td>0</td>\n",
       "      <td>3</td>\n",
       "      <td>1</td>\n",
       "      <td>0</td>\n",
       "      <td>3</td>\n",
       "      <td>3</td>\n",
       "      <td>3</td>\n",
       "      <td>0</td>\n",
       "      <td>5</td>\n",
       "      <td>33.636700</td>\n",
       "      <td>-84.428101</td>\n",
       "      <td>41.785999</td>\n",
       "      <td>62.04</td>\n",
       "      <td>1</td>\n",
       "      <td>0</td>\n",
       "    </tr>\n",
       "    <tr>\n",
       "      <th>19145</th>\n",
       "      <td>3</td>\n",
       "      <td>151</td>\n",
       "      <td>442</td>\n",
       "      <td>21</td>\n",
       "      <td>3</td>\n",
       "      <td>0</td>\n",
       "      <td>3</td>\n",
       "      <td>1</td>\n",
       "      <td>0</td>\n",
       "      <td>3</td>\n",
       "      <td>3</td>\n",
       "      <td>3</td>\n",
       "      <td>0</td>\n",
       "      <td>5</td>\n",
       "      <td>42.212399</td>\n",
       "      <td>-83.353401</td>\n",
       "      <td>40.491501</td>\n",
       "      <td>62.04</td>\n",
       "      <td>2</td>\n",
       "      <td>0</td>\n",
       "    </tr>\n",
       "  </tbody>\n",
       "</table>\n",
       "<p>19146 rows × 20 columns</p>\n",
       "</div>"
      ],
      "text/plain": [
       "       procarnumcod  fromarportcod  toarportcod  spacod  UpliftRestrictions  \\\n",
       "0                36            355          527      42                   4   \n",
       "1                39            215          373       3                   4   \n",
       "2                25            355           98      14                   4   \n",
       "3                25             92          373      14                   4   \n",
       "4                 1            327          308      11                   4   \n",
       "...             ...            ...          ...     ...                 ...   \n",
       "19141            73            433           60       1                   3   \n",
       "19142             1            398          499       7                   3   \n",
       "19143             2            100          175       8                   3   \n",
       "19144             3             26          351       8                   3   \n",
       "19145             3            151          442      21                   3   \n",
       "\n",
       "       ThroughSPAflag  InvoluntaryRerouted  InvoluntaryEndorsed  sidetrip  \\\n",
       "0                   1                    0                    5         4   \n",
       "1                   1                    0                    5         4   \n",
       "2                   1                    0                    5         4   \n",
       "3                   1                    0                    5         4   \n",
       "4                   1                    0                    5         4   \n",
       "...               ...                  ...                  ...       ...   \n",
       "19141               0                    3                    1         0   \n",
       "19142               0                    3                    1         0   \n",
       "19143               0                    3                    1         0   \n",
       "19144               0                    3                    1         0   \n",
       "19145               0                    3                    1         0   \n",
       "\n",
       "       originalreissueflg  ownSurchargebilling  mixedclassoptions  \\\n",
       "0                       0                    1                  5   \n",
       "1                       0                    1                  5   \n",
       "2                       0                    1                  5   \n",
       "3                       0                    1                  5   \n",
       "4                       0                    1                  5   \n",
       "...                   ...                  ...                ...   \n",
       "19141                   3                    3                  3   \n",
       "19142                   3                    3                  3   \n",
       "19143                   3                    3                  3   \n",
       "19144                   3                    3                  3   \n",
       "19145                   3                    3                  3   \n",
       "\n",
       "       spaoncodeshare  OALsurchargebilling     FRMLAT      FRMLON     TOOLAT  \\\n",
       "0                   2                    5  14.508600  121.019997   9.665442   \n",
       "1                   2                    5  22.308901  113.915001  14.508600   \n",
       "2                   2                    5  14.508600  121.019997  -6.125570   \n",
       "3                   2                    5  -6.125570  106.655998  14.508600   \n",
       "4                   2                    5  28.429399  -81.308998  33.942501   \n",
       "...               ...                  ...        ...         ...        ...   \n",
       "19141               0                    5 -31.435801  152.863007 -27.384199   \n",
       "19142               0                    5  41.978600  -87.904800  32.446602   \n",
       "19143               0                    5  32.898602  -80.040497  40.692501   \n",
       "19144               0                    5  33.636700  -84.428101  41.785999   \n",
       "19145               0                    5  42.212399  -83.353401  40.491501   \n",
       "\n",
       "           bilamt  bilcnt  outcome  \n",
       "0      1737091.58   45717        3  \n",
       "1      1735964.20   13901        3  \n",
       "2      1723632.50    9100        3  \n",
       "3      1715746.00    9061        3  \n",
       "4      1679249.97    6007        3  \n",
       "...           ...     ...      ...  \n",
       "19141       62.02       1        0  \n",
       "19142       62.03       1        0  \n",
       "19143       62.04       1        0  \n",
       "19144       62.04       1        0  \n",
       "19145       62.04       2        0  \n",
       "\n",
       "[19146 rows x 20 columns]"
      ]
     },
     "execution_count": 140,
     "metadata": {},
     "output_type": "execute_result"
    }
   ],
   "source": [
    "spa_data_new"
   ]
  },
  {
   "cell_type": "code",
   "execution_count": 141,
   "metadata": {},
   "outputs": [
    {
     "data": {
      "text/plain": [
       "<AxesSubplot:xlabel='outcome', ylabel='count'>"
      ]
     },
     "execution_count": 141,
     "metadata": {},
     "output_type": "execute_result"
    },
    {
     "data": {
      "image/png": "[encoded data removed]",
      "text/plain": [
       "<Figure size 432x288 with 1 Axes>"
      ]
     },
     "metadata": {
      "needs_background": "light"
     },
     "output_type": "display_data"
    }
   ],
   "source": [
    "sns.countplot(spa_data_new['outcome'])"
   ]
  },
  {
   "cell_type": "markdown",
   "metadata": {},
   "source": [
    "# Splitting Training and Testing Data"
   ]
  },
  {
   "cell_type": "code",
   "execution_count": 142,
   "metadata": {},
   "outputs": [],
   "source": [
    "X = spa_data_new.iloc[:, :-1].values\n",
    "y = spa_data_new.iloc[:, 19].values"
   ]
  },
  {
   "cell_type": "code",
   "execution_count": 143,
   "metadata": {},
   "outputs": [
    {
     "data": {
      "text/plain": [
       "array([[ 3.60000000e+01,  3.55000000e+02,  5.27000000e+02, ...,\n",
       "         9.66544200e+00,  1.73709158e+06,  4.57170000e+04],\n",
       "       [ 3.90000000e+01,  2.15000000e+02,  3.73000000e+02, ...,\n",
       "         1.45086000e+01,  1.73596420e+06,  1.39010000e+04],\n",
       "       [ 2.50000000e+01,  3.55000000e+02,  9.80000000e+01, ...,\n",
       "        -6.12556982e+00,  1.72363250e+06,  9.10000000e+03],\n",
       "       ...,\n",
       "       [ 2.00000000e+00,  1.00000000e+02,  1.75000000e+02, ...,\n",
       "         4.06925011e+01,  6.20400000e+01,  1.00000000e+00],\n",
       "       [ 3.00000000e+00,  2.60000000e+01,  3.51000000e+02, ...,\n",
       "         4.17859990e+01,  6.20400000e+01,  1.00000000e+00],\n",
       "       [ 3.00000000e+00,  1.51000000e+02,  4.42000000e+02, ...,\n",
       "         4.04915009e+01,  6.20400000e+01,  2.00000000e+00]])"
      ]
     },
     "execution_count": 143,
     "metadata": {},
     "output_type": "execute_result"
    }
   ],
   "source": [
    "X"
   ]
  },
  {
   "cell_type": "code",
   "execution_count": 144,
   "metadata": {},
   "outputs": [
    {
     "data": {
      "text/plain": [
       "array([3, 3, 3, ..., 0, 0, 0], dtype=int64)"
      ]
     },
     "execution_count": 144,
     "metadata": {},
     "output_type": "execute_result"
    }
   ],
   "source": [
    "y"
   ]
  },
  {
   "cell_type": "code",
   "execution_count": 145,
   "metadata": {},
   "outputs": [],
   "source": [
    "from sklearn.model_selection import train_test_split, cross_val_score\n"
   ]
  },
  {
   "cell_type": "code",
   "execution_count": 146,
   "metadata": {},
   "outputs": [
    {
     "data": {
      "text/plain": [
       "array([[7.60000000e+01, 5.93000000e+02, 3.42000000e+02, ...,\n",
       "        1.85037003e+01, 5.63300000e+02, 2.00000000e+00],\n",
       "       [3.00000000e+00, 3.64000000e+02, 3.45000000e+02, ...,\n",
       "        2.84293995e+01, 3.43240000e+02, 2.00000000e+00],\n",
       "       [5.40000000e+01, 2.15000000e+02, 3.73000000e+02, ...,\n",
       "        1.45086000e+01, 6.10800000e+04, 5.89000000e+02],\n",
       "       ...,\n",
       "       [4.60000000e+01, 8.40000000e+01, 3.73000000e+02, ...,\n",
       "        1.45086000e+01, 7.00000000e+01, 1.00000000e+00],\n",
       "       [1.00000000e+00, 3.45000000e+02, 4.20000000e+02, ...,\n",
       "        3.68945999e+01, 1.41620000e+03, 2.40000000e+01],\n",
       "       [6.00000000e+01, 5.50000000e+01, 3.73000000e+02, ...,\n",
       "        1.45086000e+01, 7.57470000e+02, 2.00000000e+00]])"
      ]
     },
     "execution_count": 146,
     "metadata": {},
     "output_type": "execute_result"
    }
   ],
   "source": [
    "X_train, X_test, y_train, y_test = train_test_split(X, y, test_size=0.20)\n",
    "X_train"
   ]
  },
  {
   "cell_type": "code",
   "execution_count": 147,
   "metadata": {},
   "outputs": [],
   "source": [
    "from sklearn.preprocessing import StandardScaler\n"
   ]
  },
  {
   "cell_type": "code",
   "execution_count": 148,
   "metadata": {},
   "outputs": [
    {
     "data": {
      "text/plain": [
       "array([[  1.        , 469.        , 419.        , ...,  41.9786    ,\n",
       "        211.        ,   4.        ],\n",
       "       [  3.        , 151.        , 141.        , ...,  39.90240097,\n",
       "         77.16      ,   4.        ],\n",
       "       [ 76.        , 593.        , 591.        , ...,  44.88079834,\n",
       "        382.68      ,  17.        ],\n",
       "       ...,\n",
       "       [ 58.        , 252.        , 198.        , ...,  16.90110016,\n",
       "         48.        ,   1.        ],\n",
       "       [ 22.        , 511.        , 234.        , ...,  22.308901  ,\n",
       "        340.        ,   1.        ],\n",
       "       [ 76.        , 563.        , 607.        , ...,  46.1614    ,\n",
       "        875.28      ,  12.        ]])"
      ]
     },
     "execution_count": 148,
     "metadata": {},
     "output_type": "execute_result"
    }
   ],
   "source": [
    "X_test"
   ]
  },
  {
   "cell_type": "code",
   "execution_count": 149,
   "metadata": {},
   "outputs": [],
   "source": [
    "scaler = StandardScaler()\n",
    "scaler.fit(X_train)\n",
    "\n",
    "X_train = scaler.transform(X_train)\n",
    "X_test = scaler.transform(X_test)"
   ]
  },
  {
   "cell_type": "markdown",
   "metadata": {},
   "source": [
    "# Training Models & Prediction"
   ]
  },
  {
   "cell_type": "code",
   "execution_count": 150,
   "metadata": {},
   "outputs": [],
   "source": [
    "from sklearn.linear_model import LogisticRegression"
   ]
  },
  {
   "cell_type": "code",
   "execution_count": 151,
   "metadata": {},
   "outputs": [],
   "source": [
    "model = LogisticRegression()"
   ]
  },
  {
   "cell_type": "code",
   "execution_count": 152,
   "metadata": {},
   "outputs": [
    {
     "data": {
      "text/plain": [
       "LogisticRegression()"
      ]
     },
     "execution_count": 152,
     "metadata": {},
     "output_type": "execute_result"
    }
   ],
   "source": [
    "model.fit(X_train, y_train)"
   ]
  },
  {
   "cell_type": "code",
   "execution_count": 153,
   "metadata": {},
   "outputs": [
    {
     "data": {
      "text/plain": [
       "array([0, 0, 0, ..., 1, 0, 0], dtype=int64)"
      ]
     },
     "execution_count": 153,
     "metadata": {},
     "output_type": "execute_result"
    }
   ],
   "source": [
    "y_pred = model.predict(X_test)\n",
    "y_pred"
   ]
  },
  {
   "cell_type": "code",
   "execution_count": 154,
   "metadata": {},
   "outputs": [
    {
     "name": "stdout",
     "output_type": "stream",
     "text": [
      "Cross validation score : [0.48041775 0.93211488 0.96710183 0.97441253 0.98955614 0.9921671\n",
      " 0.96656217 0.84378265 0.66718913 0.56321839]\n"
     ]
    }
   ],
   "source": [
    "print(\"Cross validation score :\", cross_val_score(model,X, y, cv=10))"
   ]
  },
  {
   "cell_type": "code",
   "execution_count": 155,
   "metadata": {},
   "outputs": [],
   "source": [
    "from sklearn.metrics import classification_report, confusion_matrix, accuracy_score"
   ]
  },
  {
   "cell_type": "code",
   "execution_count": 156,
   "metadata": {},
   "outputs": [
    {
     "name": "stdout",
     "output_type": "stream",
     "text": [
      "Accuracy Score 0.8169712793733681\n",
      "Confusion Matrix\n",
      "[[1617  248    0]\n",
      " [ 422 1078    1]\n",
      " [   0   30  434]]\n"
     ]
    }
   ],
   "source": [
    "print(\"Accuracy Score\", accuracy_score(y_test, y_pred))\n",
    "print(\"Confusion Matrix\")\n",
    "print(confusion_matrix(y_test, y_pred))"
   ]
  },
  {
   "cell_type": "code",
   "execution_count": 157,
   "metadata": {},
   "outputs": [
    {
     "name": "stdout",
     "output_type": "stream",
     "text": [
      "              precision    recall  f1-score   support\n",
      "\n",
      "           0       0.79      0.87      0.83      1865\n",
      "           1       0.79      0.72      0.75      1501\n",
      "           3       1.00      0.94      0.97       464\n",
      "\n",
      "    accuracy                           0.82      3830\n",
      "   macro avg       0.86      0.84      0.85      3830\n",
      "weighted avg       0.82      0.82      0.82      3830\n",
      "\n"
     ]
    }
   ],
   "source": [
    "print(classification_report(y_test, y_pred))\n"
   ]
  },
  {
   "cell_type": "code",
   "execution_count": 158,
   "metadata": {},
   "outputs": [],
   "source": [
    "from sklearn.naive_bayes import GaussianNB"
   ]
  },
  {
   "cell_type": "code",
   "execution_count": 159,
   "metadata": {},
   "outputs": [],
   "source": [
    "model_nb = GaussianNB()"
   ]
  },
  {
   "cell_type": "code",
   "execution_count": 160,
   "metadata": {},
   "outputs": [
    {
     "data": {
      "text/plain": [
       "GaussianNB()"
      ]
     },
     "execution_count": 160,
     "metadata": {},
     "output_type": "execute_result"
    }
   ],
   "source": [
    "model_nb.fit(X_train,y_train)\n"
   ]
  },
  {
   "cell_type": "code",
   "execution_count": 161,
   "metadata": {},
   "outputs": [
    {
     "data": {
      "text/plain": [
       "array([0, 0, 1, ..., 0, 0, 1], dtype=int64)"
      ]
     },
     "execution_count": 161,
     "metadata": {},
     "output_type": "execute_result"
    }
   ],
   "source": [
    "y_pred_nb = model_nb.predict(X_test)\n",
    "y_pred_nb"
   ]
  },
  {
   "cell_type": "code",
   "execution_count": 162,
   "metadata": {},
   "outputs": [
    {
     "name": "stdout",
     "output_type": "stream",
     "text": [
      "Cross validation score : [0.39582245 0.9926893  1.         1.         1.         0.96292428\n",
      " 0.79832811 0.65987461 0.59195402 0.60083595]\n"
     ]
    }
   ],
   "source": [
    "print(\"Cross validation score :\", cross_val_score(model_nb,X, y, cv=10))"
   ]
  },
  {
   "cell_type": "code",
   "execution_count": 163,
   "metadata": {},
   "outputs": [
    {
     "name": "stdout",
     "output_type": "stream",
     "text": [
      "Accuracy Score: 0.9574412532637075\n",
      "Confusion Matrix\n",
      "[[1840   25    0]\n",
      " [ 120 1380    1]\n",
      " [   0   17  447]]\n"
     ]
    }
   ],
   "source": [
    "print(\"Accuracy Score:\",accuracy_score(y_test,y_pred_nb))\n",
    "print(\"Confusion Matrix\")\n",
    "print(confusion_matrix(y_test, y_pred_nb))"
   ]
  },
  {
   "cell_type": "code",
   "execution_count": 164,
   "metadata": {},
   "outputs": [
    {
     "name": "stdout",
     "output_type": "stream",
     "text": [
      "              precision    recall  f1-score   support\n",
      "\n",
      "           0       0.94      0.99      0.96      1865\n",
      "           1       0.97      0.92      0.94      1501\n",
      "           3       1.00      0.96      0.98       464\n",
      "\n",
      "    accuracy                           0.96      3830\n",
      "   macro avg       0.97      0.96      0.96      3830\n",
      "weighted avg       0.96      0.96      0.96      3830\n",
      "\n"
     ]
    }
   ],
   "source": [
    "print(classification_report(y_test, y_pred_nb))"
   ]
  },
  {
   "cell_type": "code",
   "execution_count": 165,
   "metadata": {},
   "outputs": [],
   "source": [
    "from sklearn.neighbors import KNeighborsClassifier"
   ]
  },
  {
   "cell_type": "code",
   "execution_count": 166,
   "metadata": {},
   "outputs": [],
   "source": [
    "model_knn = KNeighborsClassifier(n_neighbors=3)"
   ]
  },
  {
   "cell_type": "code",
   "execution_count": 167,
   "metadata": {},
   "outputs": [
    {
     "data": {
      "text/plain": [
       "array([0, 0, 0, ..., 1, 0, 1], dtype=int64)"
      ]
     },
     "execution_count": 167,
     "metadata": {},
     "output_type": "execute_result"
    }
   ],
   "source": [
    "model_knn.fit(X_train,y_train)\n",
    "y_pred_knn = model_knn.predict(X_test)\n",
    "y_pred_knn"
   ]
  },
  {
   "cell_type": "code",
   "execution_count": 168,
   "metadata": {},
   "outputs": [
    {
     "name": "stdout",
     "output_type": "stream",
     "text": [
      "Cross validation score : [0.29451697 0.60992167 0.78903394 0.7921671  0.72637076 0.88511749\n",
      " 0.86050157 0.6985371  0.66091954 0.56112853]\n"
     ]
    }
   ],
   "source": [
    "print(\"Cross validation score :\", cross_val_score(model_knn,X, y, cv=10))"
   ]
  },
  {
   "cell_type": "code",
   "execution_count": 169,
   "metadata": {},
   "outputs": [
    {
     "name": "stdout",
     "output_type": "stream",
     "text": [
      "Accuracy Score: 0.8451697127937337\n",
      "Confusion Matrix\n",
      "[[1556  294   15]\n",
      " [ 229 1255   17]\n",
      " [  11   27  426]]\n"
     ]
    }
   ],
   "source": [
    "print(\"Accuracy Score:\",accuracy_score(y_test,y_pred_knn))\n",
    "print(\"Confusion Matrix\")\n",
    "print(confusion_matrix(y_test, y_pred_knn))"
   ]
  },
  {
   "cell_type": "code",
   "execution_count": 170,
   "metadata": {},
   "outputs": [
    {
     "name": "stdout",
     "output_type": "stream",
     "text": [
      "              precision    recall  f1-score   support\n",
      "\n",
      "           0       0.87      0.83      0.85      1865\n",
      "           1       0.80      0.84      0.82      1501\n",
      "           3       0.93      0.92      0.92       464\n",
      "\n",
      "    accuracy                           0.85      3830\n",
      "   macro avg       0.86      0.86      0.86      3830\n",
      "weighted avg       0.85      0.85      0.85      3830\n",
      "\n"
     ]
    }
   ],
   "source": [
    "print(classification_report(y_test, y_pred_knn))\n"
   ]
  },
  {
   "cell_type": "code",
   "execution_count": 171,
   "metadata": {},
   "outputs": [],
   "source": [
    "from sklearn.tree import DecisionTreeClassifier"
   ]
  },
  {
   "cell_type": "code",
   "execution_count": 172,
   "metadata": {},
   "outputs": [],
   "source": [
    "model_dt = DecisionTreeClassifier()"
   ]
  },
  {
   "cell_type": "code",
   "execution_count": 173,
   "metadata": {},
   "outputs": [
    {
     "data": {
      "text/plain": [
       "array([0, 0, 1, ..., 0, 0, 1], dtype=int64)"
      ]
     },
     "execution_count": 173,
     "metadata": {},
     "output_type": "execute_result"
    }
   ],
   "source": [
    "model_dt.fit(X_train,y_train)\n",
    "y_pred_dt = model_dt.predict(X_test)\n",
    "y_pred_dt\n"
   ]
  },
  {
   "cell_type": "code",
   "execution_count": 174,
   "metadata": {},
   "outputs": [
    {
     "name": "stdout",
     "output_type": "stream",
     "text": [
      "Cross validation score : [0.64073107 1.         1.         1.         1.         1.\n",
      " 1.         1.         1.         1.        ]\n"
     ]
    }
   ],
   "source": [
    "print(\"Cross validation score :\", cross_val_score(model_dt,X, y, cv=10))"
   ]
  },
  {
   "cell_type": "code",
   "execution_count": 175,
   "metadata": {},
   "outputs": [
    {
     "name": "stdout",
     "output_type": "stream",
     "text": [
      "Accuracy Score: 0.9997389033942559\n",
      "Confusion Matrix\n",
      "[[1865    0    0]\n",
      " [   0 1501    0]\n",
      " [   0    1  463]]\n"
     ]
    }
   ],
   "source": [
    "print(\"Accuracy Score:\",accuracy_score(y_test,y_pred_dt))\n",
    "print(\"Confusion Matrix\")\n",
    "print(confusion_matrix(y_test, y_pred_dt))"
   ]
  },
  {
   "cell_type": "code",
   "execution_count": 176,
   "metadata": {},
   "outputs": [
    {
     "name": "stdout",
     "output_type": "stream",
     "text": [
      "              precision    recall  f1-score   support\n",
      "\n",
      "           0       1.00      1.00      1.00      1865\n",
      "           1       1.00      1.00      1.00      1501\n",
      "           3       1.00      1.00      1.00       464\n",
      "\n",
      "    accuracy                           1.00      3830\n",
      "   macro avg       1.00      1.00      1.00      3830\n",
      "weighted avg       1.00      1.00      1.00      3830\n",
      "\n"
     ]
    }
   ],
   "source": [
    "print(classification_report(y_test, y_pred_dt))"
   ]
  },
  {
   "cell_type": "code",
   "execution_count": 177,
   "metadata": {},
   "outputs": [],
   "source": [
    "from sklearn.linear_model import LinearRegression"
   ]
  },
  {
   "cell_type": "code",
   "execution_count": 178,
   "metadata": {},
   "outputs": [
    {
     "data": {
      "text/plain": [
       "0        1737091.58\n",
       "1        1735964.20\n",
       "2        1723632.50\n",
       "3        1715746.00\n",
       "4        1679249.97\n",
       "            ...    \n",
       "19141         62.02\n",
       "19142         62.03\n",
       "19143         62.04\n",
       "19144         62.04\n",
       "19145         62.04\n",
       "Name: bilamt, Length: 19146, dtype: float64"
      ]
     },
     "execution_count": 178,
     "metadata": {},
     "output_type": "execute_result"
    }
   ],
   "source": [
    "x = spa_data_new['bilamt']\n",
    "y = spa_data_new['outcome'] \n",
    "x"
   ]
  },
  {
   "cell_type": "code",
   "execution_count": 179,
   "metadata": {},
   "outputs": [
    {
     "data": {
      "text/plain": [
       "(14359,)"
      ]
     },
     "execution_count": 179,
     "metadata": {},
     "output_type": "execute_result"
    }
   ],
   "source": [
    "x_train_lg, x_test_lg, y_train_lg, y_test_lg = train_test_split(x, y)\n",
    "x_train_lg.shape"
   ]
  },
  {
   "cell_type": "code",
   "execution_count": 180,
   "metadata": {},
   "outputs": [
    {
     "data": {
      "text/plain": [
       "(14359,)"
      ]
     },
     "execution_count": 180,
     "metadata": {},
     "output_type": "execute_result"
    }
   ],
   "source": [
    "y_train_lg.shape"
   ]
  },
  {
   "cell_type": "code",
   "execution_count": 181,
   "metadata": {},
   "outputs": [
    {
     "name": "stdout",
     "output_type": "stream",
     "text": [
      "[[0. 0. 0. ... 0. 0. 0.]\n",
      " [0. 0. 0. ... 0. 0. 0.]\n",
      " [0. 0. 0. ... 0. 0. 0.]\n",
      " ...\n",
      " [0. 0. 0. ... 0. 0. 0.]\n",
      " [0. 0. 0. ... 0. 0. 0.]\n",
      " [0. 0. 0. ... 0. 0. 0.]]\n",
      "[3. 0. 0. ... 0. 1. 1.]\n"
     ]
    }
   ],
   "source": [
    "regressor = LinearRegression()\n",
    "regressor.fit(x_train_lg.values.reshape(1,-1), y_train_lg.values.reshape(1,-1))\n",
    "print(regressor.coef_)\n",
    "print(regressor.intercept_)"
   ]
  },
  {
   "cell_type": "code",
   "execution_count": 182,
   "metadata": {},
   "outputs": [
    {
     "data": {
      "text/plain": [
       "array([[3., 0., 0., ..., 0., 1., 1.]])"
      ]
     },
     "execution_count": 182,
     "metadata": {},
     "output_type": "execute_result"
    }
   ],
   "source": [
    "predictions = regressor.predict(x_train_lg.values.reshape(1,-1))\n",
    "predictions"
   ]
  },
  {
   "cell_type": "code",
   "execution_count": 183,
   "metadata": {},
   "outputs": [],
   "source": [
    "\n",
    "import statsmodels.api as sm"
   ]
  },
  {
   "cell_type": "code",
   "execution_count": 184,
   "metadata": {},
   "outputs": [],
   "source": [
    "x2 = sm.add_constant(x)"
   ]
  },
  {
   "cell_type": "code",
   "execution_count": 185,
   "metadata": {},
   "outputs": [],
   "source": [
    "est = sm.OLS(y, x2)"
   ]
  },
  {
   "cell_type": "code",
   "execution_count": 186,
   "metadata": {},
   "outputs": [
    {
     "name": "stdout",
     "output_type": "stream",
     "text": [
      "                            OLS Regression Results                            \n",
      "==============================================================================\n",
      "Dep. Variable:                outcome   R-squared:                       0.096\n",
      "Model:                            OLS   Adj. R-squared:                  0.096\n",
      "Method:                 Least Squares   F-statistic:                     2031.\n",
      "Date:                Wed, 06 Jan 2021   Prob (F-statistic):               0.00\n",
      "Time:                        10:58:38   Log-Likelihood:                -25088.\n",
      "No. Observations:               19146   AIC:                         5.018e+04\n",
      "Df Residuals:                   19144   BIC:                         5.020e+04\n",
      "Df Model:                           1                                         \n",
      "Covariance Type:            nonrobust                                         \n",
      "==============================================================================\n",
      "                 coef    std err          t      P>|t|      [0.025      0.975]\n",
      "------------------------------------------------------------------------------\n",
      "const          0.7080      0.007    108.152      0.000       0.695       0.721\n",
      "bilamt      9.246e-07   2.05e-08     45.068      0.000    8.84e-07    9.65e-07\n",
      "==============================================================================\n",
      "Omnibus:                     3792.416   Durbin-Watson:                   0.256\n",
      "Prob(Omnibus):                  0.000   Jarque-Bera (JB):            14906.421\n",
      "Skew:                           0.945   Prob(JB):                         0.00\n",
      "Kurtosis:                       6.888   Cond. No.                     3.22e+05\n",
      "==============================================================================\n",
      "\n",
      "Notes:\n",
      "[1] Standard Errors assume that the covariance matrix of the errors is correctly specified.\n",
      "[2] The condition number is large, 3.22e+05. This might indicate that there are\n",
      "strong multicollinearity or other numerical problems.\n"
     ]
    }
   ],
   "source": [
    "est2 = est.fit()\n",
    "print(est2.summary())"
   ]
  },
  {
   "cell_type": "code",
   "execution_count": 187,
   "metadata": {},
   "outputs": [],
   "source": [
    "from sklearn.metrics import roc_curve, roc_auc_score, auc"
   ]
  },
  {
   "cell_type": "code",
   "execution_count": 188,
   "metadata": {},
   "outputs": [],
   "source": [
    "from sklearn.multiclass import OneVsRestClassifier"
   ]
  },
  {
   "cell_type": "code",
   "execution_count": 189,
   "metadata": {},
   "outputs": [
    {
     "data": {
      "image/png": "[encoded data removed]",
      "text/plain": [
       "<Figure size 432x288 with 1 Axes>"
      ]
     },
     "metadata": {
      "needs_background": "light"
     },
     "output_type": "display_data"
    }
   ],
   "source": [
    "clf = OneVsRestClassifier(LogisticRegression())\n",
    "clf.fit(X_train, y_train)\n",
    "pred = clf.predict(X_test)\n",
    "pred_prob = clf.predict_proba(X_test)\n",
    "\n",
    "# roc curve for classes\n",
    "fpr = {}\n",
    "tpr = {}\n",
    "thresh ={}\n",
    "\n",
    "n_class = 3\n",
    "\n",
    "for i in range(n_class):    \n",
    "    fpr[i], tpr[i], thresh[i] = roc_curve(y_test, pred_prob[:,i], pos_label=i)\n",
    "    \n",
    "# plotting    \n",
    "plt.plot(fpr[0], tpr[0], linestyle='--',color='orange', label='Class 0 vs Rest')\n",
    "plt.plot(fpr[1], tpr[1], linestyle='--',color='green', label='Class 1 vs Rest')\n",
    "plt.plot(fpr[2], tpr[2], linestyle='--',color='blue', label='Class 2 vs Rest')\n",
    "plt.title('Multiclass ROC curve')\n",
    "plt.xlabel('False Positive Rate')\n",
    "plt.ylabel('True Positive rate')\n",
    "plt.legend(loc='best')\n",
    "plt.savefig('Multiclass ROC',dpi=300); "
   ]
  },
  {
   "cell_type": "code",
   "execution_count": 190,
   "metadata": {},
   "outputs": [
    {
     "data": {
      "image/png": "[encoded data removed]",
      "text/plain": [
       "<Figure size 432x288 with 1 Axes>"
      ]
     },
     "metadata": {
      "needs_background": "light"
     },
     "output_type": "display_data"
    }
   ],
   "source": [
    "clf = OneVsRestClassifier(GaussianNB())\n",
    "clf.fit(X_train, y_train)\n",
    "pred = clf.predict(X_test)\n",
    "pred_prob = clf.predict_proba(X_test)\n",
    "\n",
    "# roc curve for classes\n",
    "fpr = {}\n",
    "tpr = {}\n",
    "thresh ={}\n",
    "\n",
    "n_class = 3\n",
    "\n",
    "for i in range(n_class):    \n",
    "    fpr[i], tpr[i], thresh[i] = roc_curve(y_test, pred_prob[:,i], pos_label=i)\n",
    "    \n",
    "# plotting    \n",
    "plt.plot(fpr[0], tpr[0], linestyle='--',color='orange', label='Class 0 vs Rest')\n",
    "plt.plot(fpr[1], tpr[1], linestyle='--',color='green', label='Class 1 vs Rest')\n",
    "plt.plot(fpr[2], tpr[2], linestyle='--',color='blue', label='Class 2 vs Rest')\n",
    "plt.title('Multiclass ROC curve')\n",
    "plt.xlabel('False Positive Rate')\n",
    "plt.ylabel('True Positive rate')\n",
    "plt.legend(loc='best')\n",
    "plt.savefig('Multiclass ROC',dpi=300);  "
   ]
  },
  {
   "cell_type": "code",
   "execution_count": 191,
   "metadata": {},
   "outputs": [
    {
     "data": {
      "image/png": "[encoded data removed]",
      "text/plain": [
       "<Figure size 432x288 with 1 Axes>"
      ]
     },
     "metadata": {
      "needs_background": "light"
     },
     "output_type": "display_data"
    }
   ],
   "source": [
    "clf = OneVsRestClassifier(KNeighborsClassifier(n_neighbors=11))\n",
    "clf.fit(X_train, y_train)\n",
    "pred = clf.predict(X_test)\n",
    "pred_prob = clf.predict_proba(X_test)\n",
    "\n",
    "# roc curve for classes\n",
    "fpr = {}\n",
    "tpr = {}\n",
    "thresh ={}\n",
    "\n",
    "n_class = 3\n",
    "\n",
    "for i in range(n_class):    \n",
    "    fpr[i], tpr[i], thresh[i] = roc_curve(y_test, pred_prob[:,i], pos_label=i)\n",
    "    \n",
    "# plotting    \n",
    "plt.plot(fpr[0], tpr[0], linestyle='--',color='orange', label='Class 0 vs Rest')\n",
    "plt.plot(fpr[1], tpr[1], linestyle='--',color='green', label='Class 1 vs Rest')\n",
    "plt.plot(fpr[2], tpr[2], linestyle='--',color='blue', label='Class 2 vs Rest')\n",
    "plt.title('Multiclass ROC curve')\n",
    "plt.xlabel('False Positive Rate')\n",
    "plt.ylabel('True Positive rate')\n",
    "plt.legend(loc='best')\n",
    "plt.savefig('Multiclass ROC',dpi=300);"
   ]
  },
  {
   "cell_type": "markdown",
   "metadata": {},
   "source": [
    "From the above Prediction models we can conclude that Decision Tree classifier is the best model as the Accuracy is maximum. Followed by Knn Classifier."
   ]
  },
  {
   "cell_type": "markdown",
   "metadata": {},
   "source": [
    "# Hypothesis Testing"
   ]
  },
  {
   "cell_type": "markdown",
   "metadata": {},
   "source": [
    "We have take the bilamt and outcome as the attributes for Hypothesis testing as bilamt changes performance of SPA also changes.\n",
    "\n",
    "Our hypothesis is that  \" There is no significance difference in bilamt when outcome of SPA changes from 1 to 3 \".\n",
    "Alternate hypothesis is that \" There is significance difference in bilamt when outcome of SPA changes from 1 to 3 \".\n",
    "\n",
    "We calculate the mean diffence of bilamt of SPA 1 with 3. We the sample the dataset and find the mean difference.We run for 5000 situmulation and find the p value and observerd diffence , which tell whether we need to reject null hypothesis or not."
   ]
  },
  {
   "cell_type": "code",
   "execution_count": 192,
   "metadata": {},
   "outputs": [
    {
     "data": {
      "text/html": [
       "<div>\n",
       "<style scoped>\n",
       "    .dataframe tbody tr th:only-of-type {\n",
       "        vertical-align: middle;\n",
       "    }\n",
       "\n",
       "    .dataframe tbody tr th {\n",
       "        vertical-align: top;\n",
       "    }\n",
       "\n",
       "    .dataframe thead th {\n",
       "        text-align: right;\n",
       "    }\n",
       "</style>\n",
       "<table border=\"1\" class=\"dataframe\">\n",
       "  <thead>\n",
       "    <tr style=\"text-align: right;\">\n",
       "      <th></th>\n",
       "      <th>procarnumcod</th>\n",
       "      <th>fromarportcod</th>\n",
       "      <th>toarportcod</th>\n",
       "      <th>spacod</th>\n",
       "      <th>UpliftRestrictions</th>\n",
       "      <th>ThroughSPAflag</th>\n",
       "      <th>InvoluntaryRerouted</th>\n",
       "      <th>InvoluntaryEndorsed</th>\n",
       "      <th>sidetrip</th>\n",
       "      <th>originalreissueflg</th>\n",
       "      <th>ownSurchargebilling</th>\n",
       "      <th>mixedclassoptions</th>\n",
       "      <th>spaoncodeshare</th>\n",
       "      <th>OALsurchargebilling</th>\n",
       "      <th>FRMLAT</th>\n",
       "      <th>FRMLON</th>\n",
       "      <th>TOOLAT</th>\n",
       "      <th>bilamt</th>\n",
       "      <th>bilcnt</th>\n",
       "      <th>outcome</th>\n",
       "    </tr>\n",
       "  </thead>\n",
       "  <tbody>\n",
       "    <tr>\n",
       "      <th>0</th>\n",
       "      <td>36</td>\n",
       "      <td>355</td>\n",
       "      <td>527</td>\n",
       "      <td>42</td>\n",
       "      <td>4</td>\n",
       "      <td>1</td>\n",
       "      <td>0</td>\n",
       "      <td>5</td>\n",
       "      <td>4</td>\n",
       "      <td>0</td>\n",
       "      <td>1</td>\n",
       "      <td>5</td>\n",
       "      <td>2</td>\n",
       "      <td>5</td>\n",
       "      <td>14.508600</td>\n",
       "      <td>121.019997</td>\n",
       "      <td>9.665442</td>\n",
       "      <td>1737091.58</td>\n",
       "      <td>45717</td>\n",
       "      <td>3</td>\n",
       "    </tr>\n",
       "    <tr>\n",
       "      <th>1</th>\n",
       "      <td>39</td>\n",
       "      <td>215</td>\n",
       "      <td>373</td>\n",
       "      <td>3</td>\n",
       "      <td>4</td>\n",
       "      <td>1</td>\n",
       "      <td>0</td>\n",
       "      <td>5</td>\n",
       "      <td>4</td>\n",
       "      <td>0</td>\n",
       "      <td>1</td>\n",
       "      <td>5</td>\n",
       "      <td>2</td>\n",
       "      <td>5</td>\n",
       "      <td>22.308901</td>\n",
       "      <td>113.915001</td>\n",
       "      <td>14.508600</td>\n",
       "      <td>1735964.20</td>\n",
       "      <td>13901</td>\n",
       "      <td>3</td>\n",
       "    </tr>\n",
       "    <tr>\n",
       "      <th>2</th>\n",
       "      <td>25</td>\n",
       "      <td>355</td>\n",
       "      <td>98</td>\n",
       "      <td>14</td>\n",
       "      <td>4</td>\n",
       "      <td>1</td>\n",
       "      <td>0</td>\n",
       "      <td>5</td>\n",
       "      <td>4</td>\n",
       "      <td>0</td>\n",
       "      <td>1</td>\n",
       "      <td>5</td>\n",
       "      <td>2</td>\n",
       "      <td>5</td>\n",
       "      <td>14.508600</td>\n",
       "      <td>121.019997</td>\n",
       "      <td>-6.125570</td>\n",
       "      <td>1723632.50</td>\n",
       "      <td>9100</td>\n",
       "      <td>3</td>\n",
       "    </tr>\n",
       "    <tr>\n",
       "      <th>3</th>\n",
       "      <td>25</td>\n",
       "      <td>92</td>\n",
       "      <td>373</td>\n",
       "      <td>14</td>\n",
       "      <td>4</td>\n",
       "      <td>1</td>\n",
       "      <td>0</td>\n",
       "      <td>5</td>\n",
       "      <td>4</td>\n",
       "      <td>0</td>\n",
       "      <td>1</td>\n",
       "      <td>5</td>\n",
       "      <td>2</td>\n",
       "      <td>5</td>\n",
       "      <td>-6.125570</td>\n",
       "      <td>106.655998</td>\n",
       "      <td>14.508600</td>\n",
       "      <td>1715746.00</td>\n",
       "      <td>9061</td>\n",
       "      <td>3</td>\n",
       "    </tr>\n",
       "    <tr>\n",
       "      <th>4</th>\n",
       "      <td>1</td>\n",
       "      <td>327</td>\n",
       "      <td>308</td>\n",
       "      <td>11</td>\n",
       "      <td>4</td>\n",
       "      <td>1</td>\n",
       "      <td>0</td>\n",
       "      <td>5</td>\n",
       "      <td>4</td>\n",
       "      <td>0</td>\n",
       "      <td>1</td>\n",
       "      <td>5</td>\n",
       "      <td>2</td>\n",
       "      <td>5</td>\n",
       "      <td>28.429399</td>\n",
       "      <td>-81.308998</td>\n",
       "      <td>33.942501</td>\n",
       "      <td>1679249.97</td>\n",
       "      <td>6007</td>\n",
       "      <td>3</td>\n",
       "    </tr>\n",
       "    <tr>\n",
       "      <th>...</th>\n",
       "      <td>...</td>\n",
       "      <td>...</td>\n",
       "      <td>...</td>\n",
       "      <td>...</td>\n",
       "      <td>...</td>\n",
       "      <td>...</td>\n",
       "      <td>...</td>\n",
       "      <td>...</td>\n",
       "      <td>...</td>\n",
       "      <td>...</td>\n",
       "      <td>...</td>\n",
       "      <td>...</td>\n",
       "      <td>...</td>\n",
       "      <td>...</td>\n",
       "      <td>...</td>\n",
       "      <td>...</td>\n",
       "      <td>...</td>\n",
       "      <td>...</td>\n",
       "      <td>...</td>\n",
       "      <td>...</td>\n",
       "    </tr>\n",
       "    <tr>\n",
       "      <th>19141</th>\n",
       "      <td>73</td>\n",
       "      <td>433</td>\n",
       "      <td>60</td>\n",
       "      <td>1</td>\n",
       "      <td>3</td>\n",
       "      <td>0</td>\n",
       "      <td>3</td>\n",
       "      <td>1</td>\n",
       "      <td>0</td>\n",
       "      <td>3</td>\n",
       "      <td>3</td>\n",
       "      <td>3</td>\n",
       "      <td>0</td>\n",
       "      <td>5</td>\n",
       "      <td>-31.435801</td>\n",
       "      <td>152.863007</td>\n",
       "      <td>-27.384199</td>\n",
       "      <td>62.02</td>\n",
       "      <td>1</td>\n",
       "      <td>0</td>\n",
       "    </tr>\n",
       "    <tr>\n",
       "      <th>19142</th>\n",
       "      <td>1</td>\n",
       "      <td>398</td>\n",
       "      <td>499</td>\n",
       "      <td>7</td>\n",
       "      <td>3</td>\n",
       "      <td>0</td>\n",
       "      <td>3</td>\n",
       "      <td>1</td>\n",
       "      <td>0</td>\n",
       "      <td>3</td>\n",
       "      <td>3</td>\n",
       "      <td>3</td>\n",
       "      <td>0</td>\n",
       "      <td>5</td>\n",
       "      <td>41.978600</td>\n",
       "      <td>-87.904800</td>\n",
       "      <td>32.446602</td>\n",
       "      <td>62.03</td>\n",
       "      <td>1</td>\n",
       "      <td>0</td>\n",
       "    </tr>\n",
       "    <tr>\n",
       "      <th>19143</th>\n",
       "      <td>2</td>\n",
       "      <td>100</td>\n",
       "      <td>175</td>\n",
       "      <td>8</td>\n",
       "      <td>3</td>\n",
       "      <td>0</td>\n",
       "      <td>3</td>\n",
       "      <td>1</td>\n",
       "      <td>0</td>\n",
       "      <td>3</td>\n",
       "      <td>3</td>\n",
       "      <td>3</td>\n",
       "      <td>0</td>\n",
       "      <td>5</td>\n",
       "      <td>32.898602</td>\n",
       "      <td>-80.040497</td>\n",
       "      <td>40.692501</td>\n",
       "      <td>62.04</td>\n",
       "      <td>1</td>\n",
       "      <td>0</td>\n",
       "    </tr>\n",
       "    <tr>\n",
       "      <th>19144</th>\n",
       "      <td>3</td>\n",
       "      <td>26</td>\n",
       "      <td>351</td>\n",
       "      <td>8</td>\n",
       "      <td>3</td>\n",
       "      <td>0</td>\n",
       "      <td>3</td>\n",
       "      <td>1</td>\n",
       "      <td>0</td>\n",
       "      <td>3</td>\n",
       "      <td>3</td>\n",
       "      <td>3</td>\n",
       "      <td>0</td>\n",
       "      <td>5</td>\n",
       "      <td>33.636700</td>\n",
       "      <td>-84.428101</td>\n",
       "      <td>41.785999</td>\n",
       "      <td>62.04</td>\n",
       "      <td>1</td>\n",
       "      <td>0</td>\n",
       "    </tr>\n",
       "    <tr>\n",
       "      <th>19145</th>\n",
       "      <td>3</td>\n",
       "      <td>151</td>\n",
       "      <td>442</td>\n",
       "      <td>21</td>\n",
       "      <td>3</td>\n",
       "      <td>0</td>\n",
       "      <td>3</td>\n",
       "      <td>1</td>\n",
       "      <td>0</td>\n",
       "      <td>3</td>\n",
       "      <td>3</td>\n",
       "      <td>3</td>\n",
       "      <td>0</td>\n",
       "      <td>5</td>\n",
       "      <td>42.212399</td>\n",
       "      <td>-83.353401</td>\n",
       "      <td>40.491501</td>\n",
       "      <td>62.04</td>\n",
       "      <td>2</td>\n",
       "      <td>0</td>\n",
       "    </tr>\n",
       "  </tbody>\n",
       "</table>\n",
       "<p>19146 rows × 20 columns</p>\n",
       "</div>"
      ],
      "text/plain": [
       "       procarnumcod  fromarportcod  toarportcod  spacod  UpliftRestrictions  \\\n",
       "0                36            355          527      42                   4   \n",
       "1                39            215          373       3                   4   \n",
       "2                25            355           98      14                   4   \n",
       "3                25             92          373      14                   4   \n",
       "4                 1            327          308      11                   4   \n",
       "...             ...            ...          ...     ...                 ...   \n",
       "19141            73            433           60       1                   3   \n",
       "19142             1            398          499       7                   3   \n",
       "19143             2            100          175       8                   3   \n",
       "19144             3             26          351       8                   3   \n",
       "19145             3            151          442      21                   3   \n",
       "\n",
       "       ThroughSPAflag  InvoluntaryRerouted  InvoluntaryEndorsed  sidetrip  \\\n",
       "0                   1                    0                    5         4   \n",
       "1                   1                    0                    5         4   \n",
       "2                   1                    0                    5         4   \n",
       "3                   1                    0                    5         4   \n",
       "4                   1                    0                    5         4   \n",
       "...               ...                  ...                  ...       ...   \n",
       "19141               0                    3                    1         0   \n",
       "19142               0                    3                    1         0   \n",
       "19143               0                    3                    1         0   \n",
       "19144               0                    3                    1         0   \n",
       "19145               0                    3                    1         0   \n",
       "\n",
       "       originalreissueflg  ownSurchargebilling  mixedclassoptions  \\\n",
       "0                       0                    1                  5   \n",
       "1                       0                    1                  5   \n",
       "2                       0                    1                  5   \n",
       "3                       0                    1                  5   \n",
       "4                       0                    1                  5   \n",
       "...                   ...                  ...                ...   \n",
       "19141                   3                    3                  3   \n",
       "19142                   3                    3                  3   \n",
       "19143                   3                    3                  3   \n",
       "19144                   3                    3                  3   \n",
       "19145                   3                    3                  3   \n",
       "\n",
       "       spaoncodeshare  OALsurchargebilling     FRMLAT      FRMLON     TOOLAT  \\\n",
       "0                   2                    5  14.508600  121.019997   9.665442   \n",
       "1                   2                    5  22.308901  113.915001  14.508600   \n",
       "2                   2                    5  14.508600  121.019997  -6.125570   \n",
       "3                   2                    5  -6.125570  106.655998  14.508600   \n",
       "4                   2                    5  28.429399  -81.308998  33.942501   \n",
       "...               ...                  ...        ...         ...        ...   \n",
       "19141               0                    5 -31.435801  152.863007 -27.384199   \n",
       "19142               0                    5  41.978600  -87.904800  32.446602   \n",
       "19143               0                    5  32.898602  -80.040497  40.692501   \n",
       "19144               0                    5  33.636700  -84.428101  41.785999   \n",
       "19145               0                    5  42.212399  -83.353401  40.491501   \n",
       "\n",
       "           bilamt  bilcnt  outcome  \n",
       "0      1737091.58   45717        3  \n",
       "1      1735964.20   13901        3  \n",
       "2      1723632.50    9100        3  \n",
       "3      1715746.00    9061        3  \n",
       "4      1679249.97    6007        3  \n",
       "...           ...     ...      ...  \n",
       "19141       62.02       1        0  \n",
       "19142       62.03       1        0  \n",
       "19143       62.04       1        0  \n",
       "19144       62.04       1        0  \n",
       "19145       62.04       2        0  \n",
       "\n",
       "[19146 rows x 20 columns]"
      ]
     },
     "execution_count": 192,
     "metadata": {},
     "output_type": "execute_result"
    }
   ],
   "source": [
    "spa_data"
   ]
  },
  {
   "cell_type": "code",
   "execution_count": 193,
   "metadata": {},
   "outputs": [
    {
     "data": {
      "text/html": [
       "<div>\n",
       "<style scoped>\n",
       "    .dataframe tbody tr th:only-of-type {\n",
       "        vertical-align: middle;\n",
       "    }\n",
       "\n",
       "    .dataframe tbody tr th {\n",
       "        vertical-align: top;\n",
       "    }\n",
       "\n",
       "    .dataframe thead th {\n",
       "        text-align: right;\n",
       "    }\n",
       "</style>\n",
       "<table border=\"1\" class=\"dataframe\">\n",
       "  <thead>\n",
       "    <tr style=\"text-align: right;\">\n",
       "      <th></th>\n",
       "      <th>bilamt</th>\n",
       "      <th>outcome</th>\n",
       "    </tr>\n",
       "  </thead>\n",
       "  <tbody>\n",
       "    <tr>\n",
       "      <th>0</th>\n",
       "      <td>1737091.58</td>\n",
       "      <td>3</td>\n",
       "    </tr>\n",
       "    <tr>\n",
       "      <th>1</th>\n",
       "      <td>1735964.20</td>\n",
       "      <td>3</td>\n",
       "    </tr>\n",
       "    <tr>\n",
       "      <th>2</th>\n",
       "      <td>1723632.50</td>\n",
       "      <td>3</td>\n",
       "    </tr>\n",
       "    <tr>\n",
       "      <th>3</th>\n",
       "      <td>1715746.00</td>\n",
       "      <td>3</td>\n",
       "    </tr>\n",
       "    <tr>\n",
       "      <th>4</th>\n",
       "      <td>1679249.97</td>\n",
       "      <td>3</td>\n",
       "    </tr>\n",
       "    <tr>\n",
       "      <th>...</th>\n",
       "      <td>...</td>\n",
       "      <td>...</td>\n",
       "    </tr>\n",
       "    <tr>\n",
       "      <th>18582</th>\n",
       "      <td>163.34</td>\n",
       "      <td>1</td>\n",
       "    </tr>\n",
       "    <tr>\n",
       "      <th>18597</th>\n",
       "      <td>164.59</td>\n",
       "      <td>1</td>\n",
       "    </tr>\n",
       "    <tr>\n",
       "      <th>18661</th>\n",
       "      <td>232.74</td>\n",
       "      <td>1</td>\n",
       "    </tr>\n",
       "    <tr>\n",
       "      <th>18662</th>\n",
       "      <td>232.84</td>\n",
       "      <td>1</td>\n",
       "    </tr>\n",
       "    <tr>\n",
       "      <th>19019</th>\n",
       "      <td>209.99</td>\n",
       "      <td>1</td>\n",
       "    </tr>\n",
       "  </tbody>\n",
       "</table>\n",
       "<p>9853 rows × 2 columns</p>\n",
       "</div>"
      ],
      "text/plain": [
       "           bilamt  outcome\n",
       "0      1737091.58        3\n",
       "1      1735964.20        3\n",
       "2      1723632.50        3\n",
       "3      1715746.00        3\n",
       "4      1679249.97        3\n",
       "...           ...      ...\n",
       "18582      163.34        1\n",
       "18597      164.59        1\n",
       "18661      232.74        1\n",
       "18662      232.84        1\n",
       "19019      209.99        1\n",
       "\n",
       "[9853 rows x 2 columns]"
      ]
     },
     "execution_count": 193,
     "metadata": {},
     "output_type": "execute_result"
    }
   ],
   "source": [
    "spa_bilamt_outcome = spa_data [ (spa_data['outcome']==1) | (spa_data['outcome']==3)]\n",
    "spa_bilamt_outcome = spa_bilamt_outcome[['bilamt','outcome']]\n",
    "spa_bilamt_outcome"
   ]
  },
  {
   "cell_type": "code",
   "execution_count": 194,
   "metadata": {},
   "outputs": [
    {
     "data": {
      "text/plain": [
       "1742     43930.00\n",
       "1743     43901.91\n",
       "1744     43896.82\n",
       "1745     43888.69\n",
       "1749     43652.63\n",
       "           ...   \n",
       "18582      163.34\n",
       "18597      164.59\n",
       "18661      232.74\n",
       "18662      232.84\n",
       "19019      209.99\n",
       "Name: bilamt, Length: 7613, dtype: float64"
      ]
     },
     "execution_count": 194,
     "metadata": {},
     "output_type": "execute_result"
    }
   ],
   "source": [
    "bilamt_1 = spa_bilamt_outcome['bilamt'] [spa_bilamt_outcome['outcome'] == 1]\n",
    "bilamt_1"
   ]
  },
  {
   "cell_type": "code",
   "execution_count": 195,
   "metadata": {},
   "outputs": [
    {
     "data": {
      "text/plain": [
       "0       1737091.58\n",
       "1       1735964.20\n",
       "2       1723632.50\n",
       "3       1715746.00\n",
       "4       1679249.97\n",
       "           ...    \n",
       "4645       8611.82\n",
       "4726       9977.25\n",
       "4730       9943.27\n",
       "9319         15.77\n",
       "9324         16.35\n",
       "Name: bilamt, Length: 2240, dtype: float64"
      ]
     },
     "execution_count": 195,
     "metadata": {},
     "output_type": "execute_result"
    }
   ],
   "source": [
    "bilamt_3 = spa_bilamt_outcome['bilamt'] [spa_bilamt_outcome['outcome'] == 3]\n",
    "bilamt_3"
   ]
  },
  {
   "cell_type": "code",
   "execution_count": 196,
   "metadata": {},
   "outputs": [
    {
     "data": {
      "text/html": [
       "<div>\n",
       "<style scoped>\n",
       "    .dataframe tbody tr th:only-of-type {\n",
       "        vertical-align: middle;\n",
       "    }\n",
       "\n",
       "    .dataframe tbody tr th {\n",
       "        vertical-align: top;\n",
       "    }\n",
       "\n",
       "    .dataframe thead th {\n",
       "        text-align: right;\n",
       "    }\n",
       "</style>\n",
       "<table border=\"1\" class=\"dataframe\">\n",
       "  <thead>\n",
       "    <tr style=\"text-align: right;\">\n",
       "      <th></th>\n",
       "      <th>bilamt</th>\n",
       "    </tr>\n",
       "    <tr>\n",
       "      <th>outcome</th>\n",
       "      <th></th>\n",
       "    </tr>\n",
       "  </thead>\n",
       "  <tbody>\n",
       "    <tr>\n",
       "      <th>1</th>\n",
       "      <td>7572.034395</td>\n",
       "    </tr>\n",
       "    <tr>\n",
       "      <th>3</th>\n",
       "      <td>348298.062393</td>\n",
       "    </tr>\n",
       "  </tbody>\n",
       "</table>\n",
       "</div>"
      ],
      "text/plain": [
       "                bilamt\n",
       "outcome               \n",
       "1          7572.034395\n",
       "3        348298.062393"
      ]
     },
     "execution_count": 196,
     "metadata": {},
     "output_type": "execute_result"
    }
   ],
   "source": [
    "means_outcome = spa_bilamt_outcome.groupby('outcome').mean()\n",
    "means_outcome"
   ]
  },
  {
   "cell_type": "code",
   "execution_count": 197,
   "metadata": {},
   "outputs": [],
   "source": [
    "def mean_difference(df, by ,attribute):\n",
    "    means_table = df.groupby(by).mean()\n",
    "    return (means_table[attribute].iloc[0]- means_table[attribute].iloc[1])"
   ]
  },
  {
   "cell_type": "code",
   "execution_count": 198,
   "metadata": {},
   "outputs": [
    {
     "data": {
      "text/plain": [
       "-340726.0279977441"
      ]
     },
     "execution_count": 198,
     "metadata": {},
     "output_type": "execute_result"
    }
   ],
   "source": [
    "observed_difference =  mean_difference(spa_bilamt_outcome, 'outcome' ,'bilamt')\n",
    "observed_difference"
   ]
  },
  {
   "cell_type": "code",
   "execution_count": 199,
   "metadata": {},
   "outputs": [
    {
     "data": {
      "text/html": [
       "<div>\n",
       "<style scoped>\n",
       "    .dataframe tbody tr th:only-of-type {\n",
       "        vertical-align: middle;\n",
       "    }\n",
       "\n",
       "    .dataframe tbody tr th {\n",
       "        vertical-align: top;\n",
       "    }\n",
       "\n",
       "    .dataframe thead th {\n",
       "        text-align: right;\n",
       "    }\n",
       "</style>\n",
       "<table border=\"1\" class=\"dataframe\">\n",
       "  <thead>\n",
       "    <tr style=\"text-align: right;\">\n",
       "      <th></th>\n",
       "      <th>bilamt</th>\n",
       "      <th>outcome</th>\n",
       "    </tr>\n",
       "  </thead>\n",
       "  <tbody>\n",
       "    <tr>\n",
       "      <th>0</th>\n",
       "      <td>1737091.58</td>\n",
       "      <td>3</td>\n",
       "    </tr>\n",
       "    <tr>\n",
       "      <th>1</th>\n",
       "      <td>1735964.20</td>\n",
       "      <td>3</td>\n",
       "    </tr>\n",
       "    <tr>\n",
       "      <th>2</th>\n",
       "      <td>1723632.50</td>\n",
       "      <td>3</td>\n",
       "    </tr>\n",
       "    <tr>\n",
       "      <th>3</th>\n",
       "      <td>1715746.00</td>\n",
       "      <td>3</td>\n",
       "    </tr>\n",
       "    <tr>\n",
       "      <th>4</th>\n",
       "      <td>1679249.97</td>\n",
       "      <td>3</td>\n",
       "    </tr>\n",
       "    <tr>\n",
       "      <th>...</th>\n",
       "      <td>...</td>\n",
       "      <td>...</td>\n",
       "    </tr>\n",
       "    <tr>\n",
       "      <th>18582</th>\n",
       "      <td>163.34</td>\n",
       "      <td>1</td>\n",
       "    </tr>\n",
       "    <tr>\n",
       "      <th>18597</th>\n",
       "      <td>164.59</td>\n",
       "      <td>1</td>\n",
       "    </tr>\n",
       "    <tr>\n",
       "      <th>18661</th>\n",
       "      <td>232.74</td>\n",
       "      <td>1</td>\n",
       "    </tr>\n",
       "    <tr>\n",
       "      <th>18662</th>\n",
       "      <td>232.84</td>\n",
       "      <td>1</td>\n",
       "    </tr>\n",
       "    <tr>\n",
       "      <th>19019</th>\n",
       "      <td>209.99</td>\n",
       "      <td>1</td>\n",
       "    </tr>\n",
       "  </tbody>\n",
       "</table>\n",
       "<p>9853 rows × 2 columns</p>\n",
       "</div>"
      ],
      "text/plain": [
       "           bilamt  outcome\n",
       "0      1737091.58        3\n",
       "1      1735964.20        3\n",
       "2      1723632.50        3\n",
       "3      1715746.00        3\n",
       "4      1679249.97        3\n",
       "...           ...      ...\n",
       "18582      163.34        1\n",
       "18597      164.59        1\n",
       "18661      232.74        1\n",
       "18662      232.84        1\n",
       "19019      209.99        1\n",
       "\n",
       "[9853 rows x 2 columns]"
      ]
     },
     "execution_count": 199,
     "metadata": {},
     "output_type": "execute_result"
    }
   ],
   "source": [
    "spa_bilamt_outcome"
   ]
  },
  {
   "cell_type": "code",
   "execution_count": 200,
   "metadata": {},
   "outputs": [
    {
     "data": {
      "text/html": [
       "<div>\n",
       "<style scoped>\n",
       "    .dataframe tbody tr th:only-of-type {\n",
       "        vertical-align: middle;\n",
       "    }\n",
       "\n",
       "    .dataframe tbody tr th {\n",
       "        vertical-align: top;\n",
       "    }\n",
       "\n",
       "    .dataframe thead th {\n",
       "        text-align: right;\n",
       "    }\n",
       "</style>\n",
       "<table border=\"1\" class=\"dataframe\">\n",
       "  <thead>\n",
       "    <tr style=\"text-align: right;\">\n",
       "      <th></th>\n",
       "      <th>bilamt</th>\n",
       "      <th>outcome</th>\n",
       "    </tr>\n",
       "  </thead>\n",
       "  <tbody>\n",
       "    <tr>\n",
       "      <th>9148</th>\n",
       "      <td>1261.93</td>\n",
       "      <td>1</td>\n",
       "    </tr>\n",
       "    <tr>\n",
       "      <th>6309</th>\n",
       "      <td>3089.00</td>\n",
       "      <td>1</td>\n",
       "    </tr>\n",
       "    <tr>\n",
       "      <th>1833</th>\n",
       "      <td>40560.00</td>\n",
       "      <td>1</td>\n",
       "    </tr>\n",
       "    <tr>\n",
       "      <th>1344</th>\n",
       "      <td>65326.66</td>\n",
       "      <td>3</td>\n",
       "    </tr>\n",
       "    <tr>\n",
       "      <th>4598</th>\n",
       "      <td>8872.50</td>\n",
       "      <td>1</td>\n",
       "    </tr>\n",
       "    <tr>\n",
       "      <th>...</th>\n",
       "      <td>...</td>\n",
       "      <td>...</td>\n",
       "    </tr>\n",
       "    <tr>\n",
       "      <th>4523</th>\n",
       "      <td>7028.26</td>\n",
       "      <td>1</td>\n",
       "    </tr>\n",
       "    <tr>\n",
       "      <th>12643</th>\n",
       "      <td>311.52</td>\n",
       "      <td>1</td>\n",
       "    </tr>\n",
       "    <tr>\n",
       "      <th>4441</th>\n",
       "      <td>7290.00</td>\n",
       "      <td>1</td>\n",
       "    </tr>\n",
       "    <tr>\n",
       "      <th>11242</th>\n",
       "      <td>754.36</td>\n",
       "      <td>1</td>\n",
       "    </tr>\n",
       "    <tr>\n",
       "      <th>5622</th>\n",
       "      <td>4140.00</td>\n",
       "      <td>1</td>\n",
       "    </tr>\n",
       "  </tbody>\n",
       "</table>\n",
       "<p>9853 rows × 2 columns</p>\n",
       "</div>"
      ],
      "text/plain": [
       "         bilamt  outcome\n",
       "9148    1261.93        1\n",
       "6309    3089.00        1\n",
       "1833   40560.00        1\n",
       "1344   65326.66        3\n",
       "4598    8872.50        1\n",
       "...         ...      ...\n",
       "4523    7028.26        1\n",
       "12643    311.52        1\n",
       "4441    7290.00        1\n",
       "11242    754.36        1\n",
       "5622    4140.00        1\n",
       "\n",
       "[9853 rows x 2 columns]"
      ]
     },
     "execution_count": 200,
     "metadata": {},
     "output_type": "execute_result"
    }
   ],
   "source": [
    "shuff = spa_bilamt_outcome.sample(9853 ,replace = False)\n",
    "shuff"
   ]
  },
  {
   "cell_type": "code",
   "execution_count": 201,
   "metadata": {},
   "outputs": [
    {
     "data": {
      "text/html": [
       "<div>\n",
       "<style scoped>\n",
       "    .dataframe tbody tr th:only-of-type {\n",
       "        vertical-align: middle;\n",
       "    }\n",
       "\n",
       "    .dataframe tbody tr th {\n",
       "        vertical-align: top;\n",
       "    }\n",
       "\n",
       "    .dataframe thead th {\n",
       "        text-align: right;\n",
       "    }\n",
       "</style>\n",
       "<table border=\"1\" class=\"dataframe\">\n",
       "  <thead>\n",
       "    <tr style=\"text-align: right;\">\n",
       "      <th></th>\n",
       "      <th>bilamt</th>\n",
       "      <th>outcome</th>\n",
       "      <th>shuffled_bilamt</th>\n",
       "    </tr>\n",
       "  </thead>\n",
       "  <tbody>\n",
       "    <tr>\n",
       "      <th>0</th>\n",
       "      <td>1737091.58</td>\n",
       "      <td>3</td>\n",
       "      <td>1261.93</td>\n",
       "    </tr>\n",
       "    <tr>\n",
       "      <th>1</th>\n",
       "      <td>1735964.20</td>\n",
       "      <td>3</td>\n",
       "      <td>3089.00</td>\n",
       "    </tr>\n",
       "    <tr>\n",
       "      <th>2</th>\n",
       "      <td>1723632.50</td>\n",
       "      <td>3</td>\n",
       "      <td>40560.00</td>\n",
       "    </tr>\n",
       "    <tr>\n",
       "      <th>3</th>\n",
       "      <td>1715746.00</td>\n",
       "      <td>3</td>\n",
       "      <td>65326.66</td>\n",
       "    </tr>\n",
       "    <tr>\n",
       "      <th>4</th>\n",
       "      <td>1679249.97</td>\n",
       "      <td>3</td>\n",
       "      <td>8872.50</td>\n",
       "    </tr>\n",
       "    <tr>\n",
       "      <th>...</th>\n",
       "      <td>...</td>\n",
       "      <td>...</td>\n",
       "      <td>...</td>\n",
       "    </tr>\n",
       "    <tr>\n",
       "      <th>18582</th>\n",
       "      <td>163.34</td>\n",
       "      <td>1</td>\n",
       "      <td>7028.26</td>\n",
       "    </tr>\n",
       "    <tr>\n",
       "      <th>18597</th>\n",
       "      <td>164.59</td>\n",
       "      <td>1</td>\n",
       "      <td>311.52</td>\n",
       "    </tr>\n",
       "    <tr>\n",
       "      <th>18661</th>\n",
       "      <td>232.74</td>\n",
       "      <td>1</td>\n",
       "      <td>7290.00</td>\n",
       "    </tr>\n",
       "    <tr>\n",
       "      <th>18662</th>\n",
       "      <td>232.84</td>\n",
       "      <td>1</td>\n",
       "      <td>754.36</td>\n",
       "    </tr>\n",
       "    <tr>\n",
       "      <th>19019</th>\n",
       "      <td>209.99</td>\n",
       "      <td>1</td>\n",
       "      <td>4140.00</td>\n",
       "    </tr>\n",
       "  </tbody>\n",
       "</table>\n",
       "<p>9853 rows × 3 columns</p>\n",
       "</div>"
      ],
      "text/plain": [
       "           bilamt  outcome  shuffled_bilamt\n",
       "0      1737091.58        3          1261.93\n",
       "1      1735964.20        3          3089.00\n",
       "2      1723632.50        3         40560.00\n",
       "3      1715746.00        3         65326.66\n",
       "4      1679249.97        3          8872.50\n",
       "...           ...      ...              ...\n",
       "18582      163.34        1          7028.26\n",
       "18597      164.59        1           311.52\n",
       "18661      232.74        1          7290.00\n",
       "18662      232.84        1           754.36\n",
       "19019      209.99        1          4140.00\n",
       "\n",
       "[9853 rows x 3 columns]"
      ]
     },
     "execution_count": 201,
     "metadata": {},
     "output_type": "execute_result"
    }
   ],
   "source": [
    "original_and_shuffled= spa_bilamt_outcome.assign(shuffled_bilamt=shuff['bilamt'].values)\n",
    "original_and_shuffled"
   ]
  },
  {
   "cell_type": "code",
   "execution_count": 202,
   "metadata": {},
   "outputs": [
    {
     "data": {
      "text/plain": [
       "8929.75287677269"
      ]
     },
     "execution_count": 202,
     "metadata": {},
     "output_type": "execute_result"
    }
   ],
   "source": [
    "mean_difference(original_and_shuffled, 'outcome' ,'shuffled_bilamt')"
   ]
  },
  {
   "cell_type": "markdown",
   "metadata": {},
   "source": [
    "Situmalation for 5000 permutations"
   ]
  },
  {
   "cell_type": "code",
   "execution_count": 203,
   "metadata": {},
   "outputs": [
    {
     "data": {
      "text/html": [
       "<div>\n",
       "<style scoped>\n",
       "    .dataframe tbody tr th:only-of-type {\n",
       "        vertical-align: middle;\n",
       "    }\n",
       "\n",
       "    .dataframe tbody tr th {\n",
       "        vertical-align: top;\n",
       "    }\n",
       "\n",
       "    .dataframe thead th {\n",
       "        text-align: right;\n",
       "    }\n",
       "</style>\n",
       "<table border=\"1\" class=\"dataframe\">\n",
       "  <thead>\n",
       "    <tr style=\"text-align: right;\">\n",
       "      <th></th>\n",
       "      <th>0</th>\n",
       "    </tr>\n",
       "  </thead>\n",
       "  <tbody>\n",
       "    <tr>\n",
       "      <th>0</th>\n",
       "      <td>0.011840</td>\n",
       "    </tr>\n",
       "    <tr>\n",
       "      <th>1</th>\n",
       "      <td>-0.004338</td>\n",
       "    </tr>\n",
       "    <tr>\n",
       "      <th>2</th>\n",
       "      <td>-0.021672</td>\n",
       "    </tr>\n",
       "    <tr>\n",
       "      <th>3</th>\n",
       "      <td>-0.017049</td>\n",
       "    </tr>\n",
       "    <tr>\n",
       "      <th>4</th>\n",
       "      <td>0.006062</td>\n",
       "    </tr>\n",
       "    <tr>\n",
       "      <th>...</th>\n",
       "      <td>...</td>\n",
       "    </tr>\n",
       "    <tr>\n",
       "      <th>4995</th>\n",
       "      <td>0.001440</td>\n",
       "    </tr>\n",
       "    <tr>\n",
       "      <th>4996</th>\n",
       "      <td>-0.014738</td>\n",
       "    </tr>\n",
       "    <tr>\n",
       "      <th>4997</th>\n",
       "      <td>-0.000871</td>\n",
       "    </tr>\n",
       "    <tr>\n",
       "      <th>4998</th>\n",
       "      <td>0.017618</td>\n",
       "    </tr>\n",
       "    <tr>\n",
       "      <th>4999</th>\n",
       "      <td>-0.005494</td>\n",
       "    </tr>\n",
       "  </tbody>\n",
       "</table>\n",
       "<p>5000 rows × 1 columns</p>\n",
       "</div>"
      ],
      "text/plain": [
       "             0\n",
       "0     0.011840\n",
       "1    -0.004338\n",
       "2    -0.021672\n",
       "3    -0.017049\n",
       "4     0.006062\n",
       "...        ...\n",
       "4995  0.001440\n",
       "4996 -0.014738\n",
       "4997 -0.000871\n",
       "4998  0.017618\n",
       "4999 -0.005494\n",
       "\n",
       "[5000 rows x 1 columns]"
      ]
     },
     "execution_count": 203,
     "metadata": {},
     "output_type": "execute_result"
    }
   ],
   "source": [
    "import array\n",
    "differences = np.zeros(5000)\n",
    "for i in np.arange(5000):\n",
    "    shuffled = spa_bilamt_outcome.sample(9853,replace = False)\n",
    "    original_and_shuffled = spa_bilamt_outcome.assign(shuffled_bilamt=shuffled['outcome'].values )\n",
    "    difference = mean_difference(original_and_shuffled, 'outcome' ,'shuffled_bilamt')\n",
    "    differences[i] = difference\n",
    "differences_df = pd.DataFrame(differences)\n",
    "differences_df"
   ]
  },
  {
   "cell_type": "code",
   "execution_count": 204,
   "metadata": {},
   "outputs": [
    {
     "name": "stdout",
     "output_type": "stream",
     "text": [
      "Observed Difference: -340726.0279977441\n"
     ]
    },
    {
     "data": {
      "image/png": "[encoded data removed]",
      "text/plain": [
       "<Figure size 432x288 with 1 Axes>"
      ]
     },
     "metadata": {
      "needs_background": "light"
     },
     "output_type": "display_data"
    }
   ],
   "source": [
    "differences_df.hist()\n",
    "plt.title('Prediction Under Null Hypotheses');\n",
    "plt.xlabel('Differences between Group Averages',fontsize=15)\n",
    "plt.ylabel('Units',fontsize=15);\n",
    "print('Observed Difference:', observed_difference)"
   ]
  },
  {
   "cell_type": "code",
   "execution_count": 205,
   "metadata": {},
   "outputs": [
    {
     "data": {
      "text/plain": [
       "0.0"
      ]
     },
     "execution_count": 205,
     "metadata": {},
     "output_type": "execute_result"
    }
   ],
   "source": [
    "np.count_nonzero(differences <= observed_difference)/differences.size"
   ]
  },
  {
   "cell_type": "code",
   "execution_count": 206,
   "metadata": {
    "scrolled": true
   },
   "outputs": [
    {
     "name": "stdout",
     "output_type": "stream",
     "text": [
      "Observed Difference: -340726.0279977441\n"
     ]
    },
    {
     "data": {
      "image/png": "[encoded data removed]",
      "text/plain": [
       "<Figure size 432x288 with 1 Axes>"
      ]
     },
     "metadata": {
      "needs_background": "light"
     },
     "output_type": "display_data"
    }
   ],
   "source": [
    "differences_df.hist()\n",
    "plt.title('Prediction Under Null Hypotheses');\n",
    "plt.xlabel('Differences between Group Averages',fontsize=15)\n",
    "plt.ylabel('Units',fontsize=15);\n",
    "plt.scatter(observed_difference, 0, color='red');\n",
    "print('Observed Difference:', observed_difference)"
   ]
  },
  {
   "cell_type": "markdown",
   "metadata": {},
   "source": [
    "The observed difference  is about -340726 which doesn't appear on the horizontal scale of the histogram.Therefore Null Hypothesis is inconsistent.\n",
    "\n",
    "So we reject Null Hypothesis. Alternate hypothesis is accepted. There is significance difference in bilamt when outcome of SPA changes from 1 to 3"
   ]
  },
  {
   "cell_type": "code",
   "execution_count": 2,
   "metadata": {},
   "outputs": [
    {
     "data": {
      "text/html": [
       "<script> </script> <form action=\"javascript:IPython.notebook.execute_cells_above()\"><input type=\"submit\" id=\"toggleButton\" value=\"Run all\"></form>"
      ],
      "text/plain": [
       "<IPython.core.display.HTML object>"
      ]
     },
     "execution_count": 2,
     "metadata": {},
     "output_type": "execute_result"
    }
   ],
   "source": [
    "from IPython.core.display import display, HTML\n",
    "HTML('''<script> </script> <form action=\"javascript:IPython.notebook.execute_cells_above()\"><input type=\"submit\" id=\"toggleButton\" value=\"Run all\"></form>''')"
   ]
  },
  {
   "cell_type": "markdown",
   "metadata": {},
   "source": [
    "#z-test \n"
   ]
  },
  {
   "cell_type": "markdown",
   "metadata": {},
   "source": [
    "\n",
    "Null Hypothesis: There is no difference in the mean of BILL COUNT for the given value of 412\n",
    "Alternate Hypothesis: Actual Mean and given Mean (412) are different"
   ]
  },
  {
   "cell_type": "code",
   "execution_count": 100,
   "metadata": {},
   "outputs": [
    {
     "name": "stdout",
     "output_type": "stream",
     "text": [
      "0.9998490738526473\n",
      "accept null hypothesis - There is no difference in the mean of BILL COUNT for the given value of 412\n"
     ]
    }
   ],
   "source": [
    "from scipy import stats\n",
    "from statsmodels.stats import weightstats as stests\n",
    "ztest, pval = stests.ztest(spa_data['bilcnt'], x2=None, value=412)\n",
    "print(float(pval))\n",
    "if pval<0.05:\n",
    "    print(\"reject null hypothesis\")\n",
    "else:\n",
    "    print(\"accept null hypothesis - There is no difference in the mean of BILL COUNT for the given value of 412\")"
   ]
  },
  {
   "cell_type": "markdown",
   "metadata": {},
   "source": [
    "#z test \n",
    "\n",
    "Sample 1 is 25% of the data and Sample 2 is 50% of the data\n",
    "\n",
    "H0: mean of two samples is the same\n",
    "\n",
    "H1: mean of two samples is not the same"
   ]
  },
  {
   "cell_type": "code",
   "execution_count": 111,
   "metadata": {},
   "outputs": [
    {
     "name": "stdout",
     "output_type": "stream",
     "text": [
      "0.17858255899482156\n",
      "accept null hypothesis\n"
     ]
    }
   ],
   "source": [
    "spa25 = spa_data.sample(frac =.25)\n",
    "spa50 = spa_data.sample(frac =.50)\n",
    "ztest ,pval1 = stests.ztest(spa25['bilcnt'], x2=spa50['bilcnt'], value=0,alternative='two-sided')\n",
    "print(float(pval1))\n",
    "if pval1<0.05:\n",
    "    print(\"reject null hypothesis\")\n",
    "else:\n",
    "    print(\"accept null hypothesis\")"
   ]
  },
  {
   "cell_type": "code",
   "execution_count": null,
   "metadata": {},
   "outputs": [],
   "source": []
  }
 ],
 "metadata": {
  "kernelspec": {
   "display_name": "Python 3",
   "language": "python",
   "name": "python3"
  },
  "language_info": {
   "codemirror_mode": {
    "name": "ipython",
    "version": 3
   },
   "file_extension": ".py",
   "mimetype": "text/x-python",
   "name": "python",
   "nbconvert_exporter": "python",
   "pygments_lexer": "ipython3",
   "version": "3.8.5"
  }
 },
 "nbformat": 4,
 "nbformat_minor": 4
}
